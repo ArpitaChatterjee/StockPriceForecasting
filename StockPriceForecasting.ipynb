{
  "nbformat": 4,
  "nbformat_minor": 0,
  "metadata": {
    "kernelspec": {
      "display_name": "Python 3",
      "language": "python",
      "name": "python3"
    },
    "language_info": {
      "codemirror_mode": {
        "name": "ipython",
        "version": 3
      },
      "file_extension": ".py",
      "mimetype": "text/x-python",
      "name": "python",
      "nbconvert_exporter": "python",
      "pygments_lexer": "ipython3",
      "version": "3.6.9"
    },
    "colab": {
      "name": "StockPriceForecasting.ipynb",
      "provenance": [],
      "include_colab_link": true
    }
  },
  "cells": [
    {
      "cell_type": "markdown",
      "metadata": {
        "id": "view-in-github",
        "colab_type": "text"
      },
      "source": [
        "<a href=\"https://colab.research.google.com/github/ArpitaChatterjee/StockPriceForecasting/blob/main/StockPriceForecasting.ipynb\" target=\"_parent\"><img src=\"https://colab.research.google.com/assets/colab-badge.svg\" alt=\"Open In Colab\"/></a>"
      ]
    },
    {
      "cell_type": "markdown",
      "metadata": {
        "id": "XwmBCEt5CSD3"
      },
      "source": [
        "### Stock Market Prediction And Forecasting Using Stacked LSTM"
      ]
    },
    {
      "cell_type": "code",
      "metadata": {
        "id": "As3-EwTGCSD7"
      },
      "source": [
        "### Keras and Tensorflow >2.0"
      ],
      "execution_count": 1,
      "outputs": []
    },
    {
      "cell_type": "markdown",
      "metadata": {
        "id": "gMwLKYNoDizW"
      },
      "source": [
        "Steps--\n",
        "1. collect the stock data of company--Apple(AAPL)\n",
        "2. process the data - train and test\n",
        "3. create an stacked LSTM model\n",
        "4. Predict the test data and plot the output\n",
        "5. Predict the future 30 days and plot the output "
      ]
    },
    {
      "cell_type": "code",
      "metadata": {
        "id": "TR39DSoACSD8"
      },
      "source": [
        "### Data Collection\n",
        "import pandas_datareader as pdr\n",
        "key=\"1f25a20941f3480574a74c09477dedf6bc5f1990\"\n",
        "\n",
        "df = pdr.get_data_tiingo('AAPL', api_key=key) #to save the stock data till date(11-07-2021) in AAPL file"
      ],
      "execution_count": 20,
      "outputs": []
    },
    {
      "cell_type": "code",
      "metadata": {
        "id": "7RgTYCtoCSD9"
      },
      "source": [
        "df.to_csv('/content/drive/MyDrive/Colab Notebooks/Stock-MArket-Forecasting-master/AAPL.csv')"
      ],
      "execution_count": 21,
      "outputs": []
    },
    {
      "cell_type": "code",
      "metadata": {
        "id": "XQyQ_EkNCSD9"
      },
      "source": [
        "import pandas as pd\n",
        "\n",
        "df=pd.read_csv('/content/drive/MyDrive/Colab Notebooks/Stock-MArket-Forecasting-master/AAPL.csv')"
      ],
      "execution_count": 22,
      "outputs": []
    },
    {
      "cell_type": "code",
      "metadata": {
        "colab": {
          "base_uri": "https://localhost:8080/",
          "height": 310
        },
        "id": "VZqc5dF0CSD-",
        "outputId": "7ce8e9b1-87c0-46ca-ee22-c2ea599859c7"
      },
      "source": [
        "df.head()"
      ],
      "execution_count": 23,
      "outputs": [
        {
          "output_type": "execute_result",
          "data": {
            "text/html": [
              "<div>\n",
              "<style scoped>\n",
              "    .dataframe tbody tr th:only-of-type {\n",
              "        vertical-align: middle;\n",
              "    }\n",
              "\n",
              "    .dataframe tbody tr th {\n",
              "        vertical-align: top;\n",
              "    }\n",
              "\n",
              "    .dataframe thead th {\n",
              "        text-align: right;\n",
              "    }\n",
              "</style>\n",
              "<table border=\"1\" class=\"dataframe\">\n",
              "  <thead>\n",
              "    <tr style=\"text-align: right;\">\n",
              "      <th></th>\n",
              "      <th>symbol</th>\n",
              "      <th>date</th>\n",
              "      <th>close</th>\n",
              "      <th>high</th>\n",
              "      <th>low</th>\n",
              "      <th>open</th>\n",
              "      <th>volume</th>\n",
              "      <th>adjClose</th>\n",
              "      <th>adjHigh</th>\n",
              "      <th>adjLow</th>\n",
              "      <th>adjOpen</th>\n",
              "      <th>adjVolume</th>\n",
              "      <th>divCash</th>\n",
              "      <th>splitFactor</th>\n",
              "    </tr>\n",
              "  </thead>\n",
              "  <tbody>\n",
              "    <tr>\n",
              "      <th>0</th>\n",
              "      <td>AAPL</td>\n",
              "      <td>2016-07-12 00:00:00+00:00</td>\n",
              "      <td>97.42</td>\n",
              "      <td>97.70</td>\n",
              "      <td>97.12</td>\n",
              "      <td>97.17</td>\n",
              "      <td>24167463</td>\n",
              "      <td>22.748880</td>\n",
              "      <td>22.814264</td>\n",
              "      <td>22.678826</td>\n",
              "      <td>22.690502</td>\n",
              "      <td>96669852</td>\n",
              "      <td>0.0</td>\n",
              "      <td>1.0</td>\n",
              "    </tr>\n",
              "    <tr>\n",
              "      <th>1</th>\n",
              "      <td>AAPL</td>\n",
              "      <td>2016-07-13 00:00:00+00:00</td>\n",
              "      <td>96.87</td>\n",
              "      <td>97.67</td>\n",
              "      <td>96.84</td>\n",
              "      <td>97.41</td>\n",
              "      <td>25892171</td>\n",
              "      <td>22.620448</td>\n",
              "      <td>22.807258</td>\n",
              "      <td>22.613442</td>\n",
              "      <td>22.746545</td>\n",
              "      <td>103568684</td>\n",
              "      <td>0.0</td>\n",
              "      <td>1.0</td>\n",
              "    </tr>\n",
              "    <tr>\n",
              "      <th>2</th>\n",
              "      <td>AAPL</td>\n",
              "      <td>2016-07-14 00:00:00+00:00</td>\n",
              "      <td>98.79</td>\n",
              "      <td>98.99</td>\n",
              "      <td>97.32</td>\n",
              "      <td>97.39</td>\n",
              "      <td>38918997</td>\n",
              "      <td>23.068794</td>\n",
              "      <td>23.115496</td>\n",
              "      <td>22.725529</td>\n",
              "      <td>22.741875</td>\n",
              "      <td>155675988</td>\n",
              "      <td>0.0</td>\n",
              "      <td>1.0</td>\n",
              "    </tr>\n",
              "    <tr>\n",
              "      <th>3</th>\n",
              "      <td>AAPL</td>\n",
              "      <td>2016-07-15 00:00:00+00:00</td>\n",
              "      <td>98.78</td>\n",
              "      <td>99.30</td>\n",
              "      <td>98.50</td>\n",
              "      <td>98.92</td>\n",
              "      <td>30136990</td>\n",
              "      <td>23.066458</td>\n",
              "      <td>23.187885</td>\n",
              "      <td>23.001075</td>\n",
              "      <td>23.099150</td>\n",
              "      <td>120547960</td>\n",
              "      <td>0.0</td>\n",
              "      <td>1.0</td>\n",
              "    </tr>\n",
              "    <tr>\n",
              "      <th>4</th>\n",
              "      <td>AAPL</td>\n",
              "      <td>2016-07-18 00:00:00+00:00</td>\n",
              "      <td>99.83</td>\n",
              "      <td>100.13</td>\n",
              "      <td>98.60</td>\n",
              "      <td>98.70</td>\n",
              "      <td>36493867</td>\n",
              "      <td>23.311648</td>\n",
              "      <td>23.381702</td>\n",
              "      <td>23.024426</td>\n",
              "      <td>23.047777</td>\n",
              "      <td>145975468</td>\n",
              "      <td>0.0</td>\n",
              "      <td>1.0</td>\n",
              "    </tr>\n",
              "  </tbody>\n",
              "</table>\n",
              "</div>"
            ],
            "text/plain": [
              "  symbol                       date  close  ...  adjVolume  divCash  splitFactor\n",
              "0   AAPL  2016-07-12 00:00:00+00:00  97.42  ...   96669852      0.0          1.0\n",
              "1   AAPL  2016-07-13 00:00:00+00:00  96.87  ...  103568684      0.0          1.0\n",
              "2   AAPL  2016-07-14 00:00:00+00:00  98.79  ...  155675988      0.0          1.0\n",
              "3   AAPL  2016-07-15 00:00:00+00:00  98.78  ...  120547960      0.0          1.0\n",
              "4   AAPL  2016-07-18 00:00:00+00:00  99.83  ...  145975468      0.0          1.0\n",
              "\n",
              "[5 rows x 14 columns]"
            ]
          },
          "metadata": {
            "tags": []
          },
          "execution_count": 23
        }
      ]
    },
    {
      "cell_type": "code",
      "metadata": {
        "colab": {
          "base_uri": "https://localhost:8080/"
        },
        "id": "8v6jneZHCSEA",
        "outputId": "9097f371-1c99-4697-e419-e44a431bd967"
      },
      "source": [
        "df1=df.reset_index()['close'] #reset index to \"close\"\n",
        "df1"
      ],
      "execution_count": 25,
      "outputs": [
        {
          "output_type": "execute_result",
          "data": {
            "text/plain": [
              "0        97.42\n",
              "1        96.87\n",
              "2        98.79\n",
              "3        98.78\n",
              "4        99.83\n",
              "         ...  \n",
              "1253    139.96\n",
              "1254    142.02\n",
              "1255    144.57\n",
              "1256    143.24\n",
              "1257    145.11\n",
              "Name: close, Length: 1258, dtype: float64"
            ]
          },
          "metadata": {
            "tags": []
          },
          "execution_count": 25
        }
      ]
    },
    {
      "cell_type": "code",
      "metadata": {
        "colab": {
          "base_uri": "https://localhost:8080/",
          "height": 283
        },
        "id": "chgtIbE7CSEB",
        "outputId": "3491b80d-541b-4d60-893d-244d789f3578"
      },
      "source": [
        "import matplotlib.pyplot as plt\n",
        "plt.plot(df1) #close data"
      ],
      "execution_count": 26,
      "outputs": [
        {
          "output_type": "execute_result",
          "data": {
            "text/plain": [
              "[<matplotlib.lines.Line2D at 0x7f249bfc2250>]"
            ]
          },
          "metadata": {
            "tags": []
          },
          "execution_count": 26
        },
        {
          "output_type": "display_data",
          "data": {
            "image/png": "[encoded data removed]",
            "text/plain": [
              "<Figure size 432x288 with 1 Axes>"
            ]
          },
          "metadata": {
            "tags": [],
            "needs_background": "light"
          }
        }
      ]
    },
    {
      "cell_type": "markdown",
      "metadata": {
        "id": "Nqrts11PF69t"
      },
      "source": [
        "### LSTM are sensitive to the scale of the data. so we apply MinMax scaler "
      ]
    },
    {
      "cell_type": "code",
      "metadata": {
        "colab": {
          "base_uri": "https://localhost:8080/"
        },
        "id": "eLmrOMwoCSEB",
        "outputId": "c40d6855-9b93-4f92-ae52-dd261c8a4a97"
      },
      "source": [
        "import numpy as np\n",
        "df1"
      ],
      "execution_count": 27,
      "outputs": [
        {
          "output_type": "execute_result",
          "data": {
            "text/plain": [
              "0        97.42\n",
              "1        96.87\n",
              "2        98.79\n",
              "3        98.78\n",
              "4        99.83\n",
              "         ...  \n",
              "1253    139.96\n",
              "1254    142.02\n",
              "1255    144.57\n",
              "1256    143.24\n",
              "1257    145.11\n",
              "Name: close, Length: 1258, dtype: float64"
            ]
          },
          "metadata": {
            "tags": []
          },
          "execution_count": 27
        }
      ]
    },
    {
      "cell_type": "code",
      "metadata": {
        "id": "8KyXQtc9CSEC"
      },
      "source": [
        "from sklearn.preprocessing import MinMaxScaler\n",
        "scaler=MinMaxScaler(feature_range=(0,1))\n",
        "df1=scaler.fit_transform(np.array(df1).reshape(-1,1))"
      ],
      "execution_count": 28,
      "outputs": []
    },
    {
      "cell_type": "code",
      "metadata": {
        "colab": {
          "base_uri": "https://localhost:8080/"
        },
        "id": "iTNmmqPCCSEC",
        "outputId": "d693c464-712c-4ea7-d12b-c619e676d609"
      },
      "source": [
        "print(df1)"
      ],
      "execution_count": 29,
      "outputs": [
        {
          "output_type": "stream",
          "text": [
            "[[0.00183186]\n",
            " [0.0004885 ]\n",
            " [0.00517806]\n",
            " ...\n",
            " [0.11699477]\n",
            " [0.11374628]\n",
            " [0.11831371]]\n"
          ],
          "name": "stdout"
        }
      ]
    },
    {
      "cell_type": "markdown",
      "metadata": {
        "id": "URoTA1sFIcHA"
      },
      "source": [
        "Cross Validation, RAndom Seed--> mthds work well with linear regression and classification proble\n",
        "\n",
        "but in Timeseries data-> divide data in diff way-->(since prediction matters in the day its happening on, i.e next data is depended on previous data) -> do it serialy->train- 70% test-30"
      ]
    },
    {
      "cell_type": "code",
      "metadata": {
        "id": "5IG2rANuCSEC"
      },
      "source": [
        "##splitting dataset into train and test split\n",
        "training_size=int(len(df1)*0.65)\n",
        "test_size=len(df1)-training_size\n",
        "\n",
        "train_data,test_data=df1[0:training_size,:],df1[training_size:len(df1),:1]"
      ],
      "execution_count": 30,
      "outputs": []
    },
    {
      "cell_type": "code",
      "metadata": {
        "colab": {
          "base_uri": "https://localhost:8080/"
        },
        "id": "ZtvFeR0DCSED",
        "outputId": "371d9b43-cfcd-4b98-dc95-3662438ce67d"
      },
      "source": [
        "training_size,test_size"
      ],
      "execution_count": 31,
      "outputs": [
        {
          "output_type": "execute_result",
          "data": {
            "text/plain": [
              "(817, 441)"
            ]
          },
          "metadata": {
            "tags": []
          },
          "execution_count": 31
        }
      ]
    },
    {
      "cell_type": "code",
      "metadata": {
        "colab": {
          "base_uri": "https://localhost:8080/"
        },
        "id": "Y2aejSytCSED",
        "outputId": "c06897cc-3279-445c-a3e2-79a3a26d532d"
      },
      "source": [
        "train_data"
      ],
      "execution_count": 34,
      "outputs": [
        {
          "output_type": "execute_result",
          "data": {
            "text/plain": [
              "array([[0.00183186],\n",
              "       [0.0004885 ],\n",
              "       [0.00517806],\n",
              "       [0.00515363],\n",
              "       [0.00771824],\n",
              "       [0.00781593],\n",
              "       [0.00803576],\n",
              "       [0.00674124],\n",
              "       [0.00486053],\n",
              "       [0.00163646],\n",
              "       [0.        ],\n",
              "       [0.01533877],\n",
              "       [0.01873382],\n",
              "       [0.0184163 ],\n",
              "       [0.02291046],\n",
              "       [0.01907577],\n",
              "       [0.02227541],\n",
              "       [0.02247081],\n",
              "       [0.0264032 ],\n",
              "       [0.02857701],\n",
              "       [0.0296517 ],\n",
              "       [0.02767329],\n",
              "       [0.02750232],\n",
              "       [0.02811294],\n",
              "       [0.03128816],\n",
              "       [0.03104392],\n",
              "       [0.03065312],\n",
              "       [0.03031117],\n",
              "       [0.03099507],\n",
              "       [0.02891896],\n",
              "       [0.0297494 ],\n",
              "       [0.02774657],\n",
              "       [0.02662303],\n",
              "       [0.02508427],\n",
              "       [0.02479117],\n",
              "       [0.02278833],\n",
              "       [0.02303258],\n",
              "       [0.02457134],\n",
              "       [0.02701382],\n",
              "       [0.02694055],\n",
              "       [0.02855259],\n",
              "       [0.02161594],\n",
              "       [0.01577842],\n",
              "       [0.02142055],\n",
              "       [0.02755117],\n",
              "       [0.03688144],\n",
              "       [0.04616286],\n",
              "       [0.04457525],\n",
              "       [0.04130233],\n",
              "       [0.04127791],\n",
              "       [0.04122906],\n",
              "       [0.04384251],\n",
              "       [0.03917737],\n",
              "       [0.03959259],\n",
              "       [0.04010552],\n",
              "       [0.04220605],\n",
              "       [0.03788286],\n",
              "       [0.04000782],\n",
              "       [0.0387133 ],\n",
              "       [0.03988569],\n",
              "       [0.04000782],\n",
              "       [0.0420595 ],\n",
              "       [0.04247472],\n",
              "       [0.04733525],\n",
              "       [0.04794587],\n",
              "       [0.05048605],\n",
              "       [0.04960676],\n",
              "       [0.05119437],\n",
              "       [0.05099897],\n",
              "       [0.05080358],\n",
              "       [0.04994871],\n",
              "       [0.04980216],\n",
              "       [0.04867862],\n",
              "       [0.05124322],\n",
              "       [0.05270871],\n",
              "       [0.04621171],\n",
              "       [0.04350056],\n",
              "       [0.04164428],\n",
              "       [0.04120463],\n",
              "       [0.03619755],\n",
              "       [0.0364418 ],\n",
              "       [0.03214303],\n",
              "       [0.02972498],\n",
              "       [0.03355967],\n",
              "       [0.03514728],\n",
              "       [0.03470764],\n",
              "       [0.02716037],\n",
              "       [0.02872356],\n",
              "       [0.02208002],\n",
              "       [0.02549949],\n",
              "       [0.03253383],\n",
              "       [0.03243613],\n",
              "       [0.0327048 ],\n",
              "       [0.03678374],\n",
              "       [0.03695472],\n",
              "       [0.0355625 ],\n",
              "       [0.03693029],\n",
              "       [0.03639295],\n",
              "       [0.03612427],\n",
              "       [0.03382834],\n",
              "       [0.03131259],\n",
              "       [0.03231401],\n",
              "       [0.03038445],\n",
              "       [0.03243613],\n",
              "       [0.03507401],\n",
              "       [0.03773631],\n",
              "       [0.04220605],\n",
              "       [0.04061844],\n",
              "       [0.04523472],\n",
              "       [0.04523472],\n",
              "       [0.04677348],\n",
              "       [0.04713986],\n",
              "       [0.04877632],\n",
              "       [0.04953349],\n",
              "       [0.04980216],\n",
              "       [0.04792145],\n",
              "       [0.04848322],\n",
              "       [0.05029066],\n",
              "       [0.04906942],\n",
              "       [0.04899614],\n",
              "       [0.04677348],\n",
              "       [0.0475795 ],\n",
              "       [0.04726198],\n",
              "       [0.04870304],\n",
              "       [0.05187827],\n",
              "       [0.05451614],\n",
              "       [0.05480924],\n",
              "       [0.05637243],\n",
              "       [0.05515119],\n",
              "       [0.05463827],\n",
              "       [0.05698305],\n",
              "       [0.05695862],\n",
              "       [0.0564457 ],\n",
              "       [0.05698305],\n",
              "       [0.05717845],\n",
              "       [0.05690977],\n",
              "       [0.06157491],\n",
              "       [0.06172146],\n",
              "       [0.06174588],\n",
              "       [0.06096429],\n",
              "       [0.0602804 ],\n",
              "       [0.07835475],\n",
              "       [0.0778174 ],\n",
              "       [0.07916076],\n",
              "       [0.08211616],\n",
              "       [0.08514484],\n",
              "       [0.0863905 ],\n",
              "       [0.08731865],\n",
              "       [0.0865859 ],\n",
              "       [0.0894436 ],\n",
              "       [0.09366909],\n",
              "       [0.09486591],\n",
              "       [0.0944629 ],\n",
              "       [0.09537883],\n",
              "       [0.09777246],\n",
              "       [0.09877388],\n",
              "       [0.09735724],\n",
              "       [0.09767476],\n",
              "       [0.09833423],\n",
              "       [0.09848078],\n",
              "       [0.10531972],\n",
              "       [0.10329246],\n",
              "       [0.1052953 ],\n",
              "       [0.1042206 ],\n",
              "       [0.10466025],\n",
              "       [0.10339016],\n",
              "       [0.10260857],\n",
              "       [0.10373211],\n",
              "       [0.10387866],\n",
              "       [0.10336574],\n",
              "       [0.10695618],\n",
              "       [0.10751795],\n",
              "       [0.10580822],\n",
              "       [0.10939866],\n",
              "       [0.10544184],\n",
              "       [0.10930096],\n",
              "       [0.10807972],\n",
              "       [0.10739583],\n",
              "       [0.10798202],\n",
              "       [0.11511406],\n",
              "       [0.11589566],\n",
              "       [0.11543159],\n",
              "       [0.11477212],\n",
              "       [0.11486982],\n",
              "       [0.11748327],\n",
              "       [0.11565141],\n",
              "       [0.11477212],\n",
              "       [0.11399052],\n",
              "       [0.1135753 ],\n",
              "       [0.10981388],\n",
              "       [0.1102291 ],\n",
              "       [0.10839724],\n",
              "       [0.11030238],\n",
              "       [0.10876362],\n",
              "       [0.10749353],\n",
              "       [0.11179229],\n",
              "       [0.11137707],\n",
              "       [0.11472327],\n",
              "       [0.11689707],\n",
              "       [0.11482097],\n",
              "       [0.11508964],\n",
              "       [0.11474769],\n",
              "       [0.12190416],\n",
              "       [0.12417566],\n",
              "       [0.12307655],\n",
              "       [0.12178203],\n",
              "       [0.12771726],\n",
              "       [0.1376093 ],\n",
              "       [0.14000293],\n",
              "       [0.13821992],\n",
              "       [0.13990523],\n",
              "       [0.14515656],\n",
              "       [0.14417957],\n",
              "       [0.1436178 ],\n",
              "       [0.13086806],\n",
              "       [0.13646134],\n",
              "       [0.13773142],\n",
              "       [0.14000293],\n",
              "       [0.13953886],\n",
              "       [0.13841532],\n",
              "       [0.13970983],\n",
              "       [0.13907479],\n",
              "       [0.13922134],\n",
              "       [0.13699868],\n",
              "       [0.13802452],\n",
              "       [0.14356895],\n",
              "       [0.13985638],\n",
              "       [0.14112647],\n",
              "       [0.14337355],\n",
              "       [0.14244541],\n",
              "       [0.12776611],\n",
              "       [0.11907088],\n",
              "       [0.12192858],\n",
              "       [0.11843584],\n",
              "       [0.11631088],\n",
              "       [0.11137707],\n",
              "       [0.12131796],\n",
              "       [0.11806946],\n",
              "       [0.12017   ],\n",
              "       [0.1195838 ],\n",
              "       [0.12117141],\n",
              "       [0.12004787],\n",
              "       [0.11494309],\n",
              "       [0.1200723 ],\n",
              "       [0.11482097],\n",
              "       [0.11565141],\n",
              "       [0.11438132],\n",
              "       [0.11582238],\n",
              "       [0.11250061],\n",
              "       [0.11604221],\n",
              "       [0.11819159],\n",
              "       [0.11933955],\n",
              "       [0.11985247],\n",
              "       [0.12481071],\n",
              "       [0.12791266],\n",
              "       [0.12918275],\n",
              "       [0.13045284],\n",
              "       [0.13274877],\n",
              "       [0.13108788],\n",
              "       [0.13091691],\n",
              "       [0.13536222],\n",
              "       [0.13694983],\n",
              "       [0.13870842],\n",
              "       [0.13162523],\n",
              "       [0.1290362 ],\n",
              "       [0.12715549],\n",
              "       [0.13037956],\n",
              "       [0.14769674],\n",
              "       [0.14386205],\n",
              "       [0.14586488],\n",
              "       [0.15177568],\n",
              "       [0.15487763],\n",
              "       [0.15727126],\n",
              "       [0.14325143],\n",
              "       [0.14852718],\n",
              "       [0.15431586],\n",
              "       [0.1585902 ],\n",
              "       [0.15700259],\n",
              "       [0.14945533],\n",
              "       [0.14857603],\n",
              "       [0.14786772],\n",
              "       [0.15414489],\n",
              "       [0.15463338],\n",
              "       [0.15289922],\n",
              "       [0.15434029],\n",
              "       [0.15827268],\n",
              "       [0.16178985],\n",
              "       [0.16286454],\n",
              "       [0.16445215],\n",
              "       [0.16457428],\n",
              "       [0.15976259],\n",
              "       [0.15934737],\n",
              "       [0.15775976],\n",
              "       [0.15133604],\n",
              "       [0.15834595],\n",
              "       [0.15678277],\n",
              "       [0.15382737],\n",
              "       [0.15048117],\n",
              "       [0.15438914],\n",
              "       [0.15143374],\n",
              "       [0.15158028],\n",
              "       [0.14508329],\n",
              "       [0.13853744],\n",
              "       [0.13487372],\n",
              "       [0.1316008 ],\n",
              "       [0.13792682],\n",
              "       [0.14058913],\n",
              "       [0.13826877],\n",
              "       [0.14032045],\n",
              "       [0.13956328],\n",
              "       [0.14119975],\n",
              "       [0.13875727],\n",
              "       [0.1434224 ],\n",
              "       [0.14320258],\n",
              "       [0.14452152],\n",
              "       [0.14466807],\n",
              "       [0.14625568],\n",
              "       [0.14491231],\n",
              "       [0.14733037],\n",
              "       [0.15438914],\n",
              "       [0.1558302 ],\n",
              "       [0.15409604],\n",
              "       [0.14486347],\n",
              "       [0.14552293],\n",
              "       [0.14532754],\n",
              "       [0.14759904],\n",
              "       [0.14591373],\n",
              "       [0.14835621],\n",
              "       [0.1621318 ],\n",
              "       [0.1710957 ],\n",
              "       [0.17676225],\n",
              "       [0.17151092],\n",
              "       [0.17449074],\n",
              "       [0.18521323],\n",
              "       [0.18948757],\n",
              "       [0.19085536],\n",
              "       [0.1943481 ],\n",
              "       [0.19346881],\n",
              "       [0.19051341],\n",
              "       [0.18880367],\n",
              "       [0.18237995],\n",
              "       [0.17685995],\n",
              "       [0.18179376],\n",
              "       [0.1794734 ],\n",
              "       [0.17905818],\n",
              "       [0.18677642],\n",
              "       [0.19122173],\n",
              "       [0.19124615],\n",
              "       [0.18909677],\n",
              "       [0.18660544],\n",
              "       [0.17783694],\n",
              "       [0.18362562],\n",
              "       [0.18167163],\n",
              "       [0.17861853],\n",
              "       [0.17822774],\n",
              "       [0.17668897],\n",
              "       [0.17744614],\n",
              "       [0.17756827],\n",
              "       [0.18562845],\n",
              "       [0.18325924],\n",
              "       [0.18465146],\n",
              "       [0.18452933],\n",
              "       [0.18880367],\n",
              "       [0.19478775],\n",
              "       [0.19019589],\n",
              "       [0.18973182],\n",
              "       [0.19134385],\n",
              "       [0.19134385],\n",
              "       [0.18049924],\n",
              "       [0.18057252],\n",
              "       [0.18174491],\n",
              "       [0.17722632],\n",
              "       [0.18462703],\n",
              "       [0.18455376],\n",
              "       [0.18650774],\n",
              "       [0.19131943],\n",
              "       [0.18973182],\n",
              "       [0.18968297],\n",
              "       [0.18958527],\n",
              "       [0.19200332],\n",
              "       [0.19642421],\n",
              "       [0.19422598],\n",
              "       [0.20133359],\n",
              "       [0.20172439],\n",
              "       [0.19977041],\n",
              "       [0.19620439],\n",
              "       [0.19630209],\n",
              "       [0.18941429],\n",
              "       [0.18181818],\n",
              "       [0.18279517],\n",
              "       [0.17412437],\n",
              "       [0.17170632],\n",
              "       [0.17282986],\n",
              "       [0.17368472],\n",
              "       [0.15590347],\n",
              "       [0.14610913],\n",
              "       [0.16208295],\n",
              "       [0.15355869],\n",
              "       [0.14283621],\n",
              "       [0.14591373],\n",
              "       [0.16130135],\n",
              "       [0.16528259],\n",
              "       [0.17268331],\n",
              "       [0.18641004],\n",
              "       [0.18504225],\n",
              "       [0.18362562],\n",
              "       [0.18172048],\n",
              "       [0.18521323],\n",
              "       [0.19254067],\n",
              "       [0.20101607],\n",
              "       [0.19959943],\n",
              "       [0.19893996],\n",
              "       [0.19131943],\n",
              "       [0.19427483],\n",
              "       [0.19576474],\n",
              "       [0.19539837],\n",
              "       [0.1913927 ],\n",
              "       [0.19605784],\n",
              "       [0.20348298],\n",
              "       [0.20773289],\n",
              "       [0.20345855],\n",
              "       [0.19972156],\n",
              "       [0.20023448],\n",
              "       [0.19869572],\n",
              "       [0.19205217],\n",
              "       [0.19190562],\n",
              "       [0.18220898],\n",
              "       [0.17629818],\n",
              "       [0.16674808],\n",
              "       [0.1858727 ],\n",
              "       [0.17505251],\n",
              "       [0.1705095 ],\n",
              "       [0.17368472],\n",
              "       [0.170998  ],\n",
              "       [0.17517464],\n",
              "       [0.18303942],\n",
              "       [0.18594597],\n",
              "       [0.17515021],\n",
              "       [0.17922915],\n",
              "       [0.18704509],\n",
              "       [0.18506668],\n",
              "       [0.1892189 ],\n",
              "       [0.19065996],\n",
              "       [0.19332226],\n",
              "       [0.19923306],\n",
              "       [0.19825607],\n",
              "       [0.18594597],\n",
              "       [0.16865322],\n",
              "       [0.16748083],\n",
              "       [0.16186312],\n",
              "       [0.16359728],\n",
              "       [0.1649895 ],\n",
              "       [0.16034879],\n",
              "       [0.16752968],\n",
              "       [0.1769088 ],\n",
              "       [0.19515412],\n",
              "       [0.19593571],\n",
              "       [0.21288652],\n",
              "       [0.21613502],\n",
              "       [0.21830883],\n",
              "       [0.22150848],\n",
              "       [0.22805432],\n",
              "       [0.22451273],\n",
              "       [0.22343803],\n",
              "       [0.21926139],\n",
              "       [0.22351131],\n",
              "       [0.22060476],\n",
              "       [0.21894387],\n",
              "       [0.22216794],\n",
              "       [0.22101998],\n",
              "       [0.22395096],\n",
              "       [0.22343803],\n",
              "       [0.2244883 ],\n",
              "       [0.22282741],\n",
              "       [0.22185042],\n",
              "       [0.22031166],\n",
              "       [0.22854282],\n",
              "       [0.23242636],\n",
              "       [0.23604123],\n",
              "       [0.23767769],\n",
              "       [0.2364076 ],\n",
              "       [0.23210884],\n",
              "       [0.23096087],\n",
              "       [0.23352548],\n",
              "       [0.22966636],\n",
              "       [0.22991061],\n",
              "       [0.22512335],\n",
              "       [0.2248791 ],\n",
              "       [0.21742953],\n",
              "       [0.21940794],\n",
              "       [0.21686776],\n",
              "       [0.21554883],\n",
              "       [0.20883201],\n",
              "       [0.21435201],\n",
              "       [0.21369254],\n",
              "       [0.21696546],\n",
              "       [0.2160129 ],\n",
              "       [0.22106883],\n",
              "       [0.21310635],\n",
              "       [0.21672122],\n",
              "       [0.22299839],\n",
              "       [0.22937326],\n",
              "       [0.22881149],\n",
              "       [0.22277856],\n",
              "       [0.23047238],\n",
              "       [0.23120512],\n",
              "       [0.23017928],\n",
              "       [0.23149822],\n",
              "       [0.22893361],\n",
              "       [0.23254848],\n",
              "       [0.23147379],\n",
              "       [0.23188901],\n",
              "       [0.23528406],\n",
              "       [0.23972937],\n",
              "       [0.23823946],\n",
              "       [0.23035025],\n",
              "       [0.2277368 ],\n",
              "       [0.22866494],\n",
              "       [0.25604514],\n",
              "       [0.27043134],\n",
              "       [0.27189683],\n",
              "       [0.27453471],\n",
              "       [0.26974745],\n",
              "       [0.27008939],\n",
              "       [0.27407064],\n",
              "       [0.27077329],\n",
              "       [0.27404621],\n",
              "       [0.27619559],\n",
              "       [0.27739241],\n",
              "       [0.28491525],\n",
              "       [0.29532021],\n",
              "       [0.29014215],\n",
              "       [0.28911631],\n",
              "       [0.28914074],\n",
              "       [0.29021543],\n",
              "       [0.29185189],\n",
              "       [0.2961995 ],\n",
              "       [0.30049827],\n",
              "       [0.3085096 ],\n",
              "       [0.31351668],\n",
              "       [0.31986713],\n",
              "       [0.32165014],\n",
              "       [0.31801084],\n",
              "       [0.3088027 ],\n",
              "       [0.30440623],\n",
              "       [0.29715207],\n",
              "       [0.31063456],\n",
              "       [0.30384446],\n",
              "       [0.3168873 ],\n",
              "       [0.31061013],\n",
              "       [0.29605295],\n",
              "       [0.29693225],\n",
              "       [0.29724977],\n",
              "       [0.30130428],\n",
              "       [0.29551561],\n",
              "       [0.30316057],\n",
              "       [0.30658004],\n",
              "       [0.30225685],\n",
              "       [0.31332128],\n",
              "       [0.31525084],\n",
              "       [0.31896341],\n",
              "       [0.32389722],\n",
              "       [0.33071174],\n",
              "       [0.32074642],\n",
              "       [0.31170925],\n",
              "       [0.31043916],\n",
              "       [0.31801084],\n",
              "       [0.29234038],\n",
              "       [0.28767525],\n",
              "       [0.30638464],\n",
              "       [0.29478286],\n",
              "       [0.30648234],\n",
              "       [0.30413756],\n",
              "       [0.29150994],\n",
              "       [0.2995457 ],\n",
              "       [0.30281862],\n",
              "       [0.30789898],\n",
              "       [0.28923843],\n",
              "       [0.30074251],\n",
              "       [0.29219384],\n",
              "       [0.28227737],\n",
              "       [0.2848664 ],\n",
              "       [0.29844658],\n",
              "       [0.30665331],\n",
              "       [0.27065117],\n",
              "       [0.25626496],\n",
              "       [0.26158957],\n",
              "       [0.27668409],\n",
              "       [0.27311807],\n",
              "       [0.2632993 ],\n",
              "       [0.23814176],\n",
              "       [0.23340335],\n",
              "       [0.22014069],\n",
              "       [0.23140052],\n",
              "       [0.23657857],\n",
              "       [0.21784476],\n",
              "       [0.19615554],\n",
              "       [0.19566704],\n",
              "       [0.18470031],\n",
              "       [0.19039129],\n",
              "       [0.18946314],\n",
              "       [0.20582776],\n",
              "       [0.20243271],\n",
              "       [0.2000635 ],\n",
              "       [0.21530458],\n",
              "       [0.19544722],\n",
              "       [0.19063553],\n",
              "       [0.17541889],\n",
              "       [0.17813004],\n",
              "       [0.17576083],\n",
              "       [0.1769088 ],\n",
              "       [0.18142739],\n",
              "       [0.16806702],\n",
              "       [0.1643056 ],\n",
              "       [0.16950808],\n",
              "       [0.15685604],\n",
              "       [0.14693957],\n",
              "       [0.13204045],\n",
              "       [0.12251478],\n",
              "       [0.14777002],\n",
              "       [0.14527869],\n",
              "       [0.14547409],\n",
              "       [0.14916223],\n",
              "       [0.14960188],\n",
              "       [0.11118167],\n",
              "       [0.12600752],\n",
              "       [0.1252015 ],\n",
              "       [0.1320893 ],\n",
              "       [0.13834204],\n",
              "       [0.13953886],\n",
              "       [0.13585072],\n",
              "       [0.13025744],\n",
              "       [0.13775585],\n",
              "       [0.14232329],\n",
              "       [0.14457037],\n",
              "       [0.14691515],\n",
              "       [0.13831762],\n",
              "       [0.13983196],\n",
              "       [0.13685213],\n",
              "       [0.14921108],\n",
              "       [0.14564506],\n",
              "       [0.14168824],\n",
              "       [0.16750525],\n",
              "       [0.1704118 ],\n",
              "       [0.1706072 ],\n",
              "       [0.18216013],\n",
              "       [0.18931659],\n",
              "       [0.18946314],\n",
              "       [0.18140296],\n",
              "       [0.18010845],\n",
              "       [0.17771482],\n",
              "       [0.18128084],\n",
              "       [0.17954668],\n",
              "       [0.18106101],\n",
              "       [0.18013287],\n",
              "       [0.18137854],\n",
              "       [0.18406526],\n",
              "       [0.18169606],\n",
              "       [0.18636119],\n",
              "       [0.18943872],\n",
              "       [0.18968297],\n",
              "       [0.19100191],\n",
              "       [0.18680084],\n",
              "       [0.19124615],\n",
              "       [0.19339554],\n",
              "       [0.19261394],\n",
              "       [0.19014704],\n",
              "       [0.18521323],\n",
              "       [0.18621465],\n",
              "       [0.2008451 ],\n",
              "       [0.20575448],\n",
              "       [0.20770847],\n",
              "       [0.21264227],\n",
              "       [0.2184798 ],\n",
              "       [0.22312051],\n",
              "       [0.21948122],\n",
              "       [0.22346246],\n",
              "       [0.24038884],\n",
              "       [0.23052123],\n",
              "       [0.2248791 ],\n",
              "       [0.22011626],\n",
              "       [0.22421963],\n",
              "       [0.22483025],\n",
              "       [0.2278345 ],\n",
              "       [0.2309853 ],\n",
              "       [0.23777539],\n",
              "       [0.24102389],\n",
              "       [0.24185433],\n",
              "       [0.24505398],\n",
              "       [0.25262567],\n",
              "       [0.25116018],\n",
              "       [0.25389575],\n",
              "       [0.24981681],\n",
              "       [0.24962142],\n",
              "       [0.25050071],\n",
              "       [0.25054956],\n",
              "       [0.26002638],\n",
              "       [0.26180939],\n",
              "       [0.26344585],\n",
              "       [0.27065117],\n",
              "       [0.26986957],\n",
              "       [0.26527771],\n",
              "       [0.26288408],\n",
              "       [0.26364125],\n",
              "       [0.25401788],\n",
              "       [0.2780763 ],\n",
              "       [0.27473011],\n",
              "       [0.28108055],\n",
              "       [0.27309364],\n",
              "       [0.25936691],\n",
              "       [0.25946461],\n",
              "       [0.25414   ],\n",
              "       [0.24549363],\n",
              "       [0.21750281],\n",
              "       [0.2246837 ],\n",
              "       [0.2302037 ],\n",
              "       [0.22815202],\n",
              "       [0.22551414],\n",
              "       [0.21107909],\n",
              "       [0.21965219],\n",
              "       [0.21032192],\n",
              "       [0.20270138],\n",
              "       [0.20101607],\n",
              "       [0.19920864],\n",
              "       [0.19713253],\n",
              "       [0.19937961],\n",
              "       [0.1914904 ],\n",
              "       [0.18716721],\n",
              "       [0.20265253],\n",
              "       [0.20973572],\n",
              "       [0.21628157],\n",
              "       [0.22832299],\n",
              "       [0.23425822],\n",
              "       [0.23970495],\n",
              "       [0.23819061],\n",
              "       [0.23809291],\n",
              "       [0.23464902],\n",
              "       [0.23745787],\n",
              "       [0.24859557],\n",
              "       [0.24717894],\n",
              "       [0.25106248],\n",
              "       [0.24940159],\n",
              "       [0.2489131 ],\n",
              "       [0.24156123],\n",
              "       [0.25189292],\n",
              "       [0.25174637],\n",
              "       [0.24730106],\n",
              "       [0.25616726],\n",
              "       [0.25904939],\n",
              "       [0.26315275],\n",
              "       [0.26271311],\n",
              "       [0.25243027],\n",
              "       [0.25541009],\n",
              "       [0.26027063],\n",
              "       [0.25665576],\n",
              "       [0.2604416 ],\n",
              "       [0.26510674],\n",
              "       [0.26337258],\n",
              "       [0.26056372],\n",
              "       [0.26620585],\n",
              "       [0.25870744],\n",
              "       [0.27001612],\n",
              "       [0.27397294],\n",
              "       [0.27355772],\n",
              "       [0.26952762],\n",
              "       [0.27128621],\n",
              "       [0.27602462],\n",
              "       [0.27382639],\n",
              "       [0.28423135],\n",
              "       [0.27297152],\n",
              "       [0.26220019],\n",
              "       [0.2361145 ],\n",
              "       [0.24505398],\n",
              "       [0.25003664],\n",
              "       [0.26075912],\n",
              "       [0.25479947],\n",
              "       [0.25355381],\n",
              "       [0.27429046],\n",
              "       [0.25909824],\n",
              "       [0.25663133],\n",
              "       [0.26825754],\n",
              "       [0.27766108],\n",
              "       [0.27768551],\n",
              "       [0.28325436],\n",
              "       [0.28281471],\n",
              "       [0.25882956],\n",
              "       [0.26823311],\n",
              "       [0.26254213],\n",
              "       [0.26588833],\n",
              "       [0.27438816],\n",
              "       [0.27372869],\n",
              "       [0.26630355],\n",
              "       [0.27482781],\n",
              "       [0.28481755],\n",
              "       [0.2847687 ],\n",
              "       [0.28699135],\n",
              "       [0.29317083],\n",
              "       [0.30999951],\n",
              "       [0.30877827],\n",
              "       [0.29817791],\n",
              "       [0.30098676],\n",
              "       [0.30294075],\n",
              "       [0.30799668],\n",
              "       [0.30357579],\n",
              "       [0.29568658],\n",
              "       [0.29810464],\n",
              "       [0.29556446],\n",
              "       [0.30374676],\n",
              "       [0.30096234],\n",
              "       [0.29834888],\n",
              "       [0.31092765],\n",
              "       [0.31244199],\n",
              "       [0.29869083],\n",
              "       [0.30323384],\n",
              "       [0.31835279],\n",
              "       [0.31847492],\n",
              "       [0.31197792]])"
            ]
          },
          "metadata": {
            "tags": []
          },
          "execution_count": 34
        }
      ]
    },
    {
      "cell_type": "markdown",
      "metadata": {
        "id": "1GAgn_54NVUx"
      },
      "source": [
        "###Data Preprocessing"
      ]
    },
    {
      "cell_type": "markdown",
      "metadata": {
        "id": "1iOynq-oSvrM"
      },
      "source": [
        "Dividing the data based on time stamps \n",
        "eg, train-120, 130, 125, 140, 134, 150             \n",
        " test-160, 190, 154\n",
        " \n",
        "if timestamp =3,--> op is dependent on 3 previous features \n",
        "\n",
        "train->for recrd(140)\n",
        "\n",
        "x_train          y_train\n",
        "\n",
        "f1     f2   f3    o/p\n",
        "\n",
        "120   130  125   140\n",
        "\n",
        "130   125  140 134\n",
        "\n",
        "test->\n",
        "\n",
        "x_test  y_test\n",
        "\n",
        "f1. f2. f3.. o/p\n",
        "\n",
        "160 190 154 160\n",
        "\n",
        "190 154 160 170\n",
        "\n",
        "\n",
        "\n"
      ]
    },
    {
      "cell_type": "code",
      "metadata": {
        "id": "yDYgBhieCSED"
      },
      "source": [
        " import numpy\n",
        "# convert an array of values into a dataset matrix\n",
        "def create_dataset(dataset, time_step=1):\n",
        "\tdataX, dataY = [], []\n",
        "\tfor i in range(len(dataset)-time_step-1):\n",
        "\t\ta = dataset[i:(i+time_step), 0]   ###i=0, 0,1,2,3-----99   100 \n",
        "\t\tdataX.append(a)\n",
        "\t\tdataY.append(dataset[i + time_step, 0])\n",
        "\treturn numpy.array(dataX), numpy.array(dataY)"
      ],
      "execution_count": 35,
      "outputs": []
    },
    {
      "cell_type": "code",
      "metadata": {
        "id": "DchoaMjwCSED"
      },
      "source": [
        "# reshape into X=t,t+1,t+2,t+3 and Y=t+4\n",
        "time_step = 100 #take 0-99 records to predict next o/p\n",
        "X_train, y_train = create_dataset(train_data, time_step)\n",
        "X_test, ytest = create_dataset(test_data, time_step)"
      ],
      "execution_count": 36,
      "outputs": []
    },
    {
      "cell_type": "code",
      "metadata": {
        "colab": {
          "base_uri": "https://localhost:8080/"
        },
        "id": "s3zTMHWQCSEE",
        "outputId": "aaa3cc3e-428a-4d9c-e926-1d477165b259"
      },
      "source": [
        "print(X_train.shape), print(y_train.shape)"
      ],
      "execution_count": 37,
      "outputs": [
        {
          "output_type": "stream",
          "text": [
            "(716, 100)\n",
            "(716,)\n"
          ],
          "name": "stdout"
        },
        {
          "output_type": "execute_result",
          "data": {
            "text/plain": [
              "(None, None)"
            ]
          },
          "metadata": {
            "tags": []
          },
          "execution_count": 37
        }
      ]
    },
    {
      "cell_type": "code",
      "metadata": {
        "colab": {
          "base_uri": "https://localhost:8080/"
        },
        "id": "dEWsC9tUCSEE",
        "outputId": "98ebd806-7cd7-496d-9ca2-cc82528acd72"
      },
      "source": [
        "print(X_test.shape), print(ytest.shape)"
      ],
      "execution_count": 38,
      "outputs": [
        {
          "output_type": "stream",
          "text": [
            "(340, 100)\n",
            "(340,)\n"
          ],
          "name": "stdout"
        },
        {
          "output_type": "execute_result",
          "data": {
            "text/plain": [
              "(None, None)"
            ]
          },
          "metadata": {
            "tags": []
          },
          "execution_count": 38
        }
      ]
    },
    {
      "cell_type": "markdown",
      "metadata": {
        "id": "gxz4bUucVee5"
      },
      "source": [
        "Feature Scalaing"
      ]
    },
    {
      "cell_type": "code",
      "metadata": {
        "id": "zu1Kl4ynCSEE"
      },
      "source": [
        "# reshape input to be [samples, time steps, features] which is required for LSTM\n",
        "X_train =X_train.reshape(X_train.shape[0],X_train.shape[1] , 1)\n",
        "X_test = X_test.reshape(X_test.shape[0],X_test.shape[1] , 1)"
      ],
      "execution_count": 39,
      "outputs": []
    },
    {
      "cell_type": "code",
      "metadata": {
        "id": "1vtYibVVCSEF"
      },
      "source": [
        "### Create the Stacked LSTM model\n",
        "from tensorflow.keras.models import Sequential\n",
        "from tensorflow.keras.layers import Dense\n",
        "from tensorflow.keras.layers import LSTM"
      ],
      "execution_count": 41,
      "outputs": []
    },
    {
      "cell_type": "code",
      "metadata": {
        "id": "-3tNjOXnCSEF"
      },
      "source": [
        "model=Sequential()\n",
        "model.add(LSTM(50,return_sequences=True,input_shape=(100,1)))\n",
        "model.add(LSTM(50,return_sequences=True))\n",
        "model.add(LSTM(50))\n",
        "model.add(Dense(1))\n",
        "model.compile(loss='mean_squared_error',optimizer='adam')\n"
      ],
      "execution_count": 42,
      "outputs": []
    },
    {
      "cell_type": "code",
      "metadata": {
        "colab": {
          "base_uri": "https://localhost:8080/"
        },
        "id": "ZzI32M4OCSEF",
        "outputId": "e41a1e31-4ef4-4ab5-902e-aea1cbaa3351"
      },
      "source": [
        "model.summary()"
      ],
      "execution_count": 43,
      "outputs": [
        {
          "output_type": "stream",
          "text": [
            "Model: \"sequential\"\n",
            "_________________________________________________________________\n",
            "Layer (type)                 Output Shape              Param #   \n",
            "=================================================================\n",
            "lstm (LSTM)                  (None, 100, 50)           10400     \n",
            "_________________________________________________________________\n",
            "lstm_1 (LSTM)                (None, 100, 50)           20200     \n",
            "_________________________________________________________________\n",
            "lstm_2 (LSTM)                (None, 50)                20200     \n",
            "_________________________________________________________________\n",
            "dense (Dense)                (None, 1)                 51        \n",
            "=================================================================\n",
            "Total params: 50,851\n",
            "Trainable params: 50,851\n",
            "Non-trainable params: 0\n",
            "_________________________________________________________________\n"
          ],
          "name": "stdout"
        }
      ]
    },
    {
      "cell_type": "code",
      "metadata": {
        "colab": {
          "base_uri": "https://localhost:8080/"
        },
        "id": "Syce5XynCSEF",
        "outputId": "5e110840-9230-4bca-84fc-e3ebe7ec99ca"
      },
      "source": [
        "model.summary()"
      ],
      "execution_count": 44,
      "outputs": [
        {
          "output_type": "stream",
          "text": [
            "Model: \"sequential\"\n",
            "_________________________________________________________________\n",
            "Layer (type)                 Output Shape              Param #   \n",
            "=================================================================\n",
            "lstm (LSTM)                  (None, 100, 50)           10400     \n",
            "_________________________________________________________________\n",
            "lstm_1 (LSTM)                (None, 100, 50)           20200     \n",
            "_________________________________________________________________\n",
            "lstm_2 (LSTM)                (None, 50)                20200     \n",
            "_________________________________________________________________\n",
            "dense (Dense)                (None, 1)                 51        \n",
            "=================================================================\n",
            "Total params: 50,851\n",
            "Trainable params: 50,851\n",
            "Non-trainable params: 0\n",
            "_________________________________________________________________\n"
          ],
          "name": "stdout"
        }
      ]
    },
    {
      "cell_type": "code",
      "metadata": {
        "colab": {
          "base_uri": "https://localhost:8080/"
        },
        "id": "iSW5eNpqCSEF",
        "outputId": "d5f34888-6524-4408-f5dc-2f21a03147fa"
      },
      "source": [
        "model.fit(X_train,y_train,validation_data=(X_test,ytest),epochs=100,batch_size=64,verbose=1)"
      ],
      "execution_count": 45,
      "outputs": [
        {
          "output_type": "stream",
          "text": [
            "Epoch 1/100\n",
            "12/12 [==============================] - 8s 288ms/step - loss: 0.0132 - val_loss: 0.0402\n",
            "Epoch 2/100\n",
            "12/12 [==============================] - 2s 187ms/step - loss: 0.0025 - val_loss: 0.0288\n",
            "Epoch 3/100\n",
            "12/12 [==============================] - 2s 188ms/step - loss: 0.0014 - val_loss: 0.0286\n",
            "Epoch 4/100\n",
            "12/12 [==============================] - 2s 181ms/step - loss: 7.9585e-04 - val_loss: 0.0223\n",
            "Epoch 5/100\n",
            "12/12 [==============================] - 2s 184ms/step - loss: 4.9792e-04 - val_loss: 0.0206\n",
            "Epoch 6/100\n",
            "12/12 [==============================] - 2s 185ms/step - loss: 4.5844e-04 - val_loss: 0.0203\n",
            "Epoch 7/100\n",
            "12/12 [==============================] - 2s 184ms/step - loss: 4.4142e-04 - val_loss: 0.0195\n",
            "Epoch 8/100\n",
            "12/12 [==============================] - 2s 186ms/step - loss: 4.3594e-04 - val_loss: 0.0189\n",
            "Epoch 9/100\n",
            "12/12 [==============================] - 2s 182ms/step - loss: 4.1898e-04 - val_loss: 0.0184\n",
            "Epoch 10/100\n",
            "12/12 [==============================] - 2s 187ms/step - loss: 3.9245e-04 - val_loss: 0.0178\n",
            "Epoch 11/100\n",
            "12/12 [==============================] - 2s 182ms/step - loss: 3.7020e-04 - val_loss: 0.0172\n",
            "Epoch 12/100\n",
            "12/12 [==============================] - 2s 189ms/step - loss: 3.5315e-04 - val_loss: 0.0167\n",
            "Epoch 13/100\n",
            "12/12 [==============================] - 2s 180ms/step - loss: 3.4203e-04 - val_loss: 0.0161\n",
            "Epoch 14/100\n",
            "12/12 [==============================] - 2s 192ms/step - loss: 3.2959e-04 - val_loss: 0.0156\n",
            "Epoch 15/100\n",
            "12/12 [==============================] - 2s 187ms/step - loss: 3.3193e-04 - val_loss: 0.0152\n",
            "Epoch 16/100\n",
            "12/12 [==============================] - 2s 183ms/step - loss: 3.1981e-04 - val_loss: 0.0146\n",
            "Epoch 17/100\n",
            "12/12 [==============================] - 2s 185ms/step - loss: 3.0464e-04 - val_loss: 0.0141\n",
            "Epoch 18/100\n",
            "12/12 [==============================] - 2s 180ms/step - loss: 2.9149e-04 - val_loss: 0.0137\n",
            "Epoch 19/100\n",
            "12/12 [==============================] - 2s 184ms/step - loss: 2.6939e-04 - val_loss: 0.0135\n",
            "Epoch 20/100\n",
            "12/12 [==============================] - 2s 184ms/step - loss: 2.6521e-04 - val_loss: 0.0131\n",
            "Epoch 21/100\n",
            "12/12 [==============================] - 2s 182ms/step - loss: 2.5692e-04 - val_loss: 0.0129\n",
            "Epoch 22/100\n",
            "12/12 [==============================] - 2s 185ms/step - loss: 2.5529e-04 - val_loss: 0.0126\n",
            "Epoch 23/100\n",
            "12/12 [==============================] - 2s 182ms/step - loss: 2.4320e-04 - val_loss: 0.0123\n",
            "Epoch 24/100\n",
            "12/12 [==============================] - 2s 185ms/step - loss: 2.5865e-04 - val_loss: 0.0125\n",
            "Epoch 25/100\n",
            "12/12 [==============================] - 2s 184ms/step - loss: 2.7305e-04 - val_loss: 0.0115\n",
            "Epoch 26/100\n",
            "12/12 [==============================] - 2s 179ms/step - loss: 2.3649e-04 - val_loss: 0.0115\n",
            "Epoch 27/100\n",
            "12/12 [==============================] - 2s 179ms/step - loss: 2.3130e-04 - val_loss: 0.0110\n",
            "Epoch 28/100\n",
            "12/12 [==============================] - 2s 184ms/step - loss: 2.3344e-04 - val_loss: 0.0109\n",
            "Epoch 29/100\n",
            "12/12 [==============================] - 2s 184ms/step - loss: 2.2338e-04 - val_loss: 0.0111\n",
            "Epoch 30/100\n",
            "12/12 [==============================] - 2s 182ms/step - loss: 2.2917e-04 - val_loss: 0.0110\n",
            "Epoch 31/100\n",
            "12/12 [==============================] - 2s 181ms/step - loss: 2.1419e-04 - val_loss: 0.0114\n",
            "Epoch 32/100\n",
            "12/12 [==============================] - 2s 182ms/step - loss: 2.2307e-04 - val_loss: 0.0104\n",
            "Epoch 33/100\n",
            "12/12 [==============================] - 2s 184ms/step - loss: 2.1599e-04 - val_loss: 0.0102\n",
            "Epoch 34/100\n",
            "12/12 [==============================] - 2s 184ms/step - loss: 2.0867e-04 - val_loss: 0.0101\n",
            "Epoch 35/100\n",
            "12/12 [==============================] - 2s 188ms/step - loss: 2.1848e-04 - val_loss: 0.0101\n",
            "Epoch 36/100\n",
            "12/12 [==============================] - 2s 180ms/step - loss: 2.1813e-04 - val_loss: 0.0101\n",
            "Epoch 37/100\n",
            "12/12 [==============================] - 2s 183ms/step - loss: 2.2191e-04 - val_loss: 0.0094\n",
            "Epoch 38/100\n",
            "12/12 [==============================] - 2s 182ms/step - loss: 2.0211e-04 - val_loss: 0.0094\n",
            "Epoch 39/100\n",
            "12/12 [==============================] - 2s 182ms/step - loss: 2.0050e-04 - val_loss: 0.0096\n",
            "Epoch 40/100\n",
            "12/12 [==============================] - 2s 191ms/step - loss: 1.9695e-04 - val_loss: 0.0100\n",
            "Epoch 41/100\n",
            "12/12 [==============================] - 2s 180ms/step - loss: 2.3178e-04 - val_loss: 0.0093\n",
            "Epoch 42/100\n",
            "12/12 [==============================] - 2s 185ms/step - loss: 2.0506e-04 - val_loss: 0.0094\n",
            "Epoch 43/100\n",
            "12/12 [==============================] - 2s 181ms/step - loss: 2.1027e-04 - val_loss: 0.0098\n",
            "Epoch 44/100\n",
            "12/12 [==============================] - 2s 179ms/step - loss: 2.4702e-04 - val_loss: 0.0093\n",
            "Epoch 45/100\n",
            "12/12 [==============================] - 2s 189ms/step - loss: 2.0718e-04 - val_loss: 0.0094\n",
            "Epoch 46/100\n",
            "12/12 [==============================] - 2s 180ms/step - loss: 2.6385e-04 - val_loss: 0.0096\n",
            "Epoch 47/100\n",
            "12/12 [==============================] - 2s 186ms/step - loss: 2.0828e-04 - val_loss: 0.0086\n",
            "Epoch 48/100\n",
            "12/12 [==============================] - 2s 179ms/step - loss: 1.9850e-04 - val_loss: 0.0090\n",
            "Epoch 49/100\n",
            "12/12 [==============================] - 2s 183ms/step - loss: 1.9715e-04 - val_loss: 0.0094\n",
            "Epoch 50/100\n",
            "12/12 [==============================] - 2s 184ms/step - loss: 1.7984e-04 - val_loss: 0.0096\n",
            "Epoch 51/100\n",
            "12/12 [==============================] - 2s 183ms/step - loss: 1.8719e-04 - val_loss: 0.0095\n",
            "Epoch 52/100\n",
            "12/12 [==============================] - 2s 180ms/step - loss: 1.9071e-04 - val_loss: 0.0088\n",
            "Epoch 53/100\n",
            "12/12 [==============================] - 2s 185ms/step - loss: 1.8771e-04 - val_loss: 0.0089\n",
            "Epoch 54/100\n",
            "12/12 [==============================] - 2s 182ms/step - loss: 1.7657e-04 - val_loss: 0.0089\n",
            "Epoch 55/100\n",
            "12/12 [==============================] - 2s 183ms/step - loss: 1.6864e-04 - val_loss: 0.0094\n",
            "Epoch 56/100\n",
            "12/12 [==============================] - 2s 183ms/step - loss: 1.6935e-04 - val_loss: 0.0096\n",
            "Epoch 57/100\n",
            "12/12 [==============================] - 2s 187ms/step - loss: 1.9157e-04 - val_loss: 0.0092\n",
            "Epoch 58/100\n",
            "12/12 [==============================] - 2s 186ms/step - loss: 1.7467e-04 - val_loss: 0.0093\n",
            "Epoch 59/100\n",
            "12/12 [==============================] - 2s 189ms/step - loss: 1.6616e-04 - val_loss: 0.0094\n",
            "Epoch 60/100\n",
            "12/12 [==============================] - 2s 182ms/step - loss: 1.6705e-04 - val_loss: 0.0096\n",
            "Epoch 61/100\n",
            "12/12 [==============================] - 2s 182ms/step - loss: 1.6827e-04 - val_loss: 0.0097\n",
            "Epoch 62/100\n",
            "12/12 [==============================] - 2s 184ms/step - loss: 1.6175e-04 - val_loss: 0.0099\n",
            "Epoch 63/100\n",
            "12/12 [==============================] - 2s 185ms/step - loss: 1.6649e-04 - val_loss: 0.0094\n",
            "Epoch 64/100\n",
            "12/12 [==============================] - 2s 184ms/step - loss: 1.7278e-04 - val_loss: 0.0098\n",
            "Epoch 65/100\n",
            "12/12 [==============================] - 2s 182ms/step - loss: 2.0275e-04 - val_loss: 0.0090\n",
            "Epoch 66/100\n",
            "12/12 [==============================] - 2s 186ms/step - loss: 1.7708e-04 - val_loss: 0.0086\n",
            "Epoch 67/100\n",
            "12/12 [==============================] - 2s 183ms/step - loss: 1.5192e-04 - val_loss: 0.0088\n",
            "Epoch 68/100\n",
            "12/12 [==============================] - 2s 193ms/step - loss: 1.6265e-04 - val_loss: 0.0088\n",
            "Epoch 69/100\n",
            "12/12 [==============================] - 2s 180ms/step - loss: 1.4582e-04 - val_loss: 0.0090\n",
            "Epoch 70/100\n",
            "12/12 [==============================] - 2s 188ms/step - loss: 1.6044e-04 - val_loss: 0.0093\n",
            "Epoch 71/100\n",
            "12/12 [==============================] - 2s 181ms/step - loss: 1.5878e-04 - val_loss: 0.0095\n",
            "Epoch 72/100\n",
            "12/12 [==============================] - 2s 183ms/step - loss: 1.3997e-04 - val_loss: 0.0091\n",
            "Epoch 73/100\n",
            "12/12 [==============================] - 2s 184ms/step - loss: 1.3787e-04 - val_loss: 0.0097\n",
            "Epoch 74/100\n",
            "12/12 [==============================] - 2s 179ms/step - loss: 1.3589e-04 - val_loss: 0.0095\n",
            "Epoch 75/100\n",
            "12/12 [==============================] - 2s 184ms/step - loss: 1.4627e-04 - val_loss: 0.0094\n",
            "Epoch 76/100\n",
            "12/12 [==============================] - 2s 187ms/step - loss: 1.4331e-04 - val_loss: 0.0097\n",
            "Epoch 77/100\n",
            "12/12 [==============================] - 2s 193ms/step - loss: 1.5888e-04 - val_loss: 0.0086\n",
            "Epoch 78/100\n",
            "12/12 [==============================] - 2s 184ms/step - loss: 1.6264e-04 - val_loss: 0.0086\n",
            "Epoch 79/100\n",
            "12/12 [==============================] - 2s 177ms/step - loss: 1.3063e-04 - val_loss: 0.0083\n",
            "Epoch 80/100\n",
            "12/12 [==============================] - 2s 180ms/step - loss: 1.3391e-04 - val_loss: 0.0078\n",
            "Epoch 81/100\n",
            "12/12 [==============================] - 2s 183ms/step - loss: 1.3297e-04 - val_loss: 0.0083\n",
            "Epoch 82/100\n",
            "12/12 [==============================] - 2s 194ms/step - loss: 1.4020e-04 - val_loss: 0.0084\n",
            "Epoch 83/100\n",
            "12/12 [==============================] - 2s 192ms/step - loss: 1.3246e-04 - val_loss: 0.0080\n",
            "Epoch 84/100\n",
            "12/12 [==============================] - 2s 184ms/step - loss: 1.2776e-04 - val_loss: 0.0078\n",
            "Epoch 85/100\n",
            "12/12 [==============================] - 2s 185ms/step - loss: 1.2990e-04 - val_loss: 0.0078\n",
            "Epoch 86/100\n",
            "12/12 [==============================] - 2s 186ms/step - loss: 1.2929e-04 - val_loss: 0.0074\n",
            "Epoch 87/100\n",
            "12/12 [==============================] - 2s 188ms/step - loss: 1.2696e-04 - val_loss: 0.0073\n",
            "Epoch 88/100\n",
            "12/12 [==============================] - 2s 179ms/step - loss: 1.2113e-04 - val_loss: 0.0074\n",
            "Epoch 89/100\n",
            "12/12 [==============================] - 2s 184ms/step - loss: 1.1785e-04 - val_loss: 0.0077\n",
            "Epoch 90/100\n",
            "12/12 [==============================] - 2s 190ms/step - loss: 1.3795e-04 - val_loss: 0.0074\n",
            "Epoch 91/100\n",
            "12/12 [==============================] - 2s 187ms/step - loss: 1.2590e-04 - val_loss: 0.0069\n",
            "Epoch 92/100\n",
            "12/12 [==============================] - 2s 186ms/step - loss: 1.2423e-04 - val_loss: 0.0073\n",
            "Epoch 93/100\n",
            "12/12 [==============================] - 2s 189ms/step - loss: 1.1736e-04 - val_loss: 0.0074\n",
            "Epoch 94/100\n",
            "12/12 [==============================] - 2s 186ms/step - loss: 1.2658e-04 - val_loss: 0.0066\n",
            "Epoch 95/100\n",
            "12/12 [==============================] - 2s 186ms/step - loss: 1.1077e-04 - val_loss: 0.0067\n",
            "Epoch 96/100\n",
            "12/12 [==============================] - 2s 189ms/step - loss: 1.0782e-04 - val_loss: 0.0065\n",
            "Epoch 97/100\n",
            "12/12 [==============================] - 2s 190ms/step - loss: 1.0623e-04 - val_loss: 0.0067\n",
            "Epoch 98/100\n",
            "12/12 [==============================] - 2s 186ms/step - loss: 1.0662e-04 - val_loss: 0.0065\n",
            "Epoch 99/100\n",
            "12/12 [==============================] - 2s 188ms/step - loss: 1.0761e-04 - val_loss: 0.0061\n",
            "Epoch 100/100\n",
            "12/12 [==============================] - 2s 186ms/step - loss: 1.1198e-04 - val_loss: 0.0061\n"
          ],
          "name": "stdout"
        },
        {
          "output_type": "execute_result",
          "data": {
            "text/plain": [
              "<tensorflow.python.keras.callbacks.History at 0x7f2459401150>"
            ]
          },
          "metadata": {
            "tags": []
          },
          "execution_count": 45
        }
      ]
    },
    {
      "cell_type": "code",
      "metadata": {
        "id": "djiQWxgiCSEG"
      },
      "source": [
        "import tensorflow as tf "
      ],
      "execution_count": 46,
      "outputs": []
    },
    {
      "cell_type": "code",
      "metadata": {
        "colab": {
          "base_uri": "https://localhost:8080/",
          "height": 35
        },
        "id": "fFGwzEVuCSEG",
        "outputId": "9bc813b9-aa78-40c2-fd6b-7e6074b01c71"
      },
      "source": [
        "tf.__version__"
      ],
      "execution_count": 47,
      "outputs": [
        {
          "output_type": "execute_result",
          "data": {
            "application/vnd.google.colaboratory.intrinsic+json": {
              "type": "string"
            },
            "text/plain": [
              "'2.5.0'"
            ]
          },
          "metadata": {
            "tags": []
          },
          "execution_count": 47
        }
      ]
    },
    {
      "cell_type": "code",
      "metadata": {
        "id": "UPgssZ6JCSEG"
      },
      "source": [
        "### Lets Do the prediction and check performance metrics\n",
        "train_predict=model.predict(X_train)\n",
        "test_predict=model.predict(X_test)"
      ],
      "execution_count": 48,
      "outputs": []
    },
    {
      "cell_type": "code",
      "metadata": {
        "id": "AZfRHzn4CSEG"
      },
      "source": [
        "##Transformback to original form\n",
        "train_predict=scaler.inverse_transform(train_predict)\n",
        "test_predict=scaler.inverse_transform(test_predict)"
      ],
      "execution_count": 49,
      "outputs": []
    },
    {
      "cell_type": "code",
      "metadata": {
        "colab": {
          "base_uri": "https://localhost:8080/"
        },
        "id": "u-NIegqdCSEG",
        "outputId": "56f23efc-87c6-47c9-cd3a-5b43c50a0724"
      },
      "source": [
        "### Calculate RMSE performance metrics\n",
        "import math\n",
        "from sklearn.metrics import mean_squared_error\n",
        "math.sqrt(mean_squared_error(y_train,train_predict))"
      ],
      "execution_count": 51,
      "outputs": [
        {
          "output_type": "execute_result",
          "data": {
            "text/plain": [
              "175.29387650467598"
            ]
          },
          "metadata": {
            "tags": []
          },
          "execution_count": 51
        }
      ]
    },
    {
      "cell_type": "code",
      "metadata": {
        "colab": {
          "base_uri": "https://localhost:8080/"
        },
        "id": "qFbBlPxBCSEG",
        "outputId": "9f477c3b-de01-4cf7-a503-0a93c4333d46"
      },
      "source": [
        "### Test Data RMSE\n",
        "math.sqrt(mean_squared_error(ytest,test_predict))"
      ],
      "execution_count": 52,
      "outputs": [
        {
          "output_type": "execute_result",
          "data": {
            "text/plain": [
              "232.7098131377362"
            ]
          },
          "metadata": {
            "tags": []
          },
          "execution_count": 52
        }
      ]
    },
    {
      "cell_type": "code",
      "metadata": {
        "colab": {
          "base_uri": "https://localhost:8080/",
          "height": 265
        },
        "id": "Wy4Y28-qCSEG",
        "outputId": "c17ce7e5-8c5e-472b-d860-e865077b950f"
      },
      "source": [
        "### Plotting \n",
        "# shift train predictions for plotting\n",
        "look_back=100\n",
        "trainPredictPlot = numpy.empty_like(df1)\n",
        "trainPredictPlot[:, :] = np.nan\n",
        "trainPredictPlot[look_back:len(train_predict)+look_back, :] = train_predict\n",
        "# shift test predictions for plotting\n",
        "testPredictPlot = numpy.empty_like(df1)\n",
        "testPredictPlot[:, :] = numpy.nan\n",
        "testPredictPlot[len(train_predict)+(look_back*2)+1:len(df1)-1, :] = test_predict\n",
        "# plot baseline and predictions\n",
        "plt.plot(scaler.inverse_transform(df1))\n",
        "plt.plot(trainPredictPlot)\n",
        "plt.plot(testPredictPlot)\n",
        "plt.show()"
      ],
      "execution_count": 53,
      "outputs": [
        {
          "output_type": "display_data",
          "data": {
            "image/png": "[encoded data removed]",
            "text/plain": [
              "<Figure size 432x288 with 1 Axes>"
            ]
          },
          "metadata": {
            "tags": [],
            "needs_background": "light"
          }
        }
      ]
    },
    {
      "cell_type": "code",
      "metadata": {
        "colab": {
          "base_uri": "https://localhost:8080/"
        },
        "id": "tDT_rxKeCSEH",
        "outputId": "84839447-16ca-4f6c-f9b1-0c85cc0c3057"
      },
      "source": [
        "len(test_data)"
      ],
      "execution_count": 54,
      "outputs": [
        {
          "output_type": "execute_result",
          "data": {
            "text/plain": [
              "441"
            ]
          },
          "metadata": {
            "tags": []
          },
          "execution_count": 54
        }
      ]
    },
    {
      "cell_type": "code",
      "metadata": {
        "colab": {
          "base_uri": "https://localhost:8080/"
        },
        "id": "zruRbRzUCSEH",
        "outputId": "9b15e7bf-60d8-4426-bc67-e9e31a08f9a2"
      },
      "source": [
        "x_input=test_data[341:].reshape(1,-1) #take the previous 100 days data and reshape it to (-1,1) as feature to predict y test\n",
        "x_input.shape\n"
      ],
      "execution_count": 55,
      "outputs": [
        {
          "output_type": "execute_result",
          "data": {
            "text/plain": [
              "(1, 100)"
            ]
          },
          "metadata": {
            "tags": []
          },
          "execution_count": 55
        }
      ]
    },
    {
      "cell_type": "code",
      "metadata": {
        "id": "VBqiPRsvCSEH"
      },
      "source": [
        "temp_input=list(x_input)\n",
        "temp_input=temp_input[0].tolist() #convert to list "
      ],
      "execution_count": 56,
      "outputs": []
    },
    {
      "cell_type": "code",
      "metadata": {
        "colab": {
          "base_uri": "https://localhost:8080/"
        },
        "id": "I3-c_L-mCSEI",
        "outputId": "d1f9e000-b6f2-49ab-e083-609c6587dbdd"
      },
      "source": [
        "temp_input"
      ],
      "execution_count": 57,
      "outputs": [
        {
          "output_type": "execute_result",
          "data": {
            "text/plain": [
              "[0.08345952811294027,\n",
              " 0.08069952615895659,\n",
              " 0.08109032289580381,\n",
              " 0.07163792682331105,\n",
              " 0.07129597967856965,\n",
              " 0.07005031507986909,\n",
              " 0.05940110400078158,\n",
              " 0.060060573494211345,\n",
              " 0.07600996531678961,\n",
              " 0.0694885447706512,\n",
              " 0.06201455717844756,\n",
              " 0.05730057154022761,\n",
              " 0.060451370231058565,\n",
              " 0.048092423428264364,\n",
              " 0.05963313956328464,\n",
              " 0.056934199599433355,\n",
              " 0.061770309217917985,\n",
              " 0.0594988031849934,\n",
              " 0.06672854281666746,\n",
              " 0.07058766059303401,\n",
              " 0.06860925211274488,\n",
              " 0.05827756338234574,\n",
              " 0.05695862439548627,\n",
              " 0.06526305505349028,\n",
              " 0.06318694738898933,\n",
              " 0.057202872356015844,\n",
              " 0.0584241121586635,\n",
              " 0.05993844951394656,\n",
              " 0.060378095842899715,\n",
              " 0.05673880123100972,\n",
              " 0.06223438034292417,\n",
              " 0.06431048800742512,\n",
              " 0.07139367886278153,\n",
              " 0.072150847540423,\n",
              " 0.0762786380733721,\n",
              " 0.08228713790239855,\n",
              " 0.0887230716623516,\n",
              " 0.08443651995505841,\n",
              " 0.09222802989595041,\n",
              " 0.08636607884324166,\n",
              " 0.09239900346832103,\n",
              " 0.09156856040252065,\n",
              " 0.09322944653412146,\n",
              " 0.0890039568169606,\n",
              " 0.08995652386302572,\n",
              " 0.0861462556787651,\n",
              " 0.09195935713936787,\n",
              " 0.092936348981486,\n",
              " 0.09213033071173854,\n",
              " 0.09015192223144941,\n",
              " 0.08990767427091984,\n",
              " 0.08497386546822339,\n",
              " 0.08761174344194222,\n",
              " 0.07615651409310731,\n",
              " 0.07676713399443114,\n",
              " 0.08077280054711544,\n",
              " 0.08192076596160425,\n",
              " 0.073714034487812,\n",
              " 0.07141810365883444,\n",
              " 0.06374871769820722,\n",
              " 0.06912217282985689,\n",
              " 0.07517952225098923,\n",
              " 0.07229739631674076,\n",
              " 0.06882907527722143,\n",
              " 0.06843827854037415,\n",
              " 0.07483757510624789,\n",
              " 0.07024571344829272,\n",
              " 0.07432465438913582,\n",
              " 0.07383615846807678,\n",
              " 0.073714034487812,\n",
              " 0.06987934150749842,\n",
              " 0.06824288017195057,\n",
              " 0.0674368619022031,\n",
              " 0.06934199599433344,\n",
              " 0.06562942699428459,\n",
              " 0.07136925406672856,\n",
              " 0.07139367886278153,\n",
              " 0.07344536173122951,\n",
              " 0.07439792877729468,\n",
              " 0.07190659957989348,\n",
              " 0.07493527429045965,\n",
              " 0.0825802354550339,\n",
              " 0.08052855258658587,\n",
              " 0.08177421718528649,\n",
              " 0.08577988373797074,\n",
              " 0.08253138586292807,\n",
              " 0.08702554833667142,\n",
              " 0.09112891407356744,\n",
              " 0.09044501978408476,\n",
              " 0.08973670069854917,\n",
              " 0.0890039568169606,\n",
              " 0.0930828977578037,\n",
              " 0.09686874114601146,\n",
              " 0.09840750329734749,\n",
              " 0.09916467197498902,\n",
              " 0.10573494211323337,\n",
              " 0.11076645010014169,\n",
              " 0.11699477309364464,\n",
              " 0.11374627521860198,\n",
              " 0.11831371208050417]"
            ]
          },
          "metadata": {
            "tags": []
          },
          "execution_count": 57
        }
      ]
    },
    {
      "cell_type": "code",
      "metadata": {
        "colab": {
          "base_uri": "https://localhost:8080/"
        },
        "id": "UqFqesq2CSEI",
        "outputId": "749555a9-53ce-4179-bc4d-8086a528086a"
      },
      "source": [
        "# demonstrate prediction for next 10 days\n",
        "from numpy import array\n",
        "\n",
        "lst_output=[]\n",
        "n_steps=100\n",
        "i=0\n",
        "while(i<30):\n",
        "    \n",
        "    if(len(temp_input)>100):\n",
        "        #print(temp_input)\n",
        "        x_input=np.array(temp_input[1:])\n",
        "        print(\"{} day input {}\".format(i,x_input))\n",
        "        x_input=x_input.reshape(1,-1)\n",
        "        x_input = x_input.reshape((1, n_steps, 1))\n",
        "        #print(x_input)\n",
        "        yhat = model.predict(x_input, verbose=0)\n",
        "        print(\"{} day output {}\".format(i,yhat))\n",
        "        temp_input.extend(yhat[0].tolist())\n",
        "        temp_input=temp_input[1:]\n",
        "        #print(temp_input)\n",
        "        lst_output.extend(yhat.tolist())\n",
        "        i=i+1\n",
        "    else:\n",
        "        x_input = x_input.reshape((1, n_steps,1)) #rehsape the prediction data(1st step in LSTM)\n",
        "        yhat = model.predict(x_input, verbose=0) #predict the model and get yhad value\n",
        "        print(yhat[0])\n",
        "        temp_input.extend(yhat[0].tolist()) #add  yhad to prev data has 100+1 data\n",
        "        print(len(temp_input))\n",
        "        lst_output.extend(yhat.tolist())\n",
        "        i=i+1\n",
        "    \n",
        "\n",
        "print(lst_output)"
      ],
      "execution_count": 59,
      "outputs": [
        {
          "output_type": "stream",
          "text": [
            "0 day input [0.06223438 0.06431049 0.07139368 0.07215085 0.07627864 0.08228714\n",
            " 0.08872307 0.08443652 0.09222803 0.08636608 0.092399   0.09156856\n",
            " 0.09322945 0.08900396 0.08995652 0.08614626 0.09195936 0.09293635\n",
            " 0.09213033 0.09015192 0.08990767 0.08497387 0.08761174 0.07615651\n",
            " 0.07676713 0.0807728  0.08192077 0.07371403 0.0714181  0.06374872\n",
            " 0.06912217 0.07517952 0.0722974  0.06882908 0.06843828 0.07483758\n",
            " 0.07024571 0.07432465 0.07383616 0.07371403 0.06987934 0.06824288\n",
            " 0.06743686 0.069342   0.06562943 0.07136925 0.07139368 0.07344536\n",
            " 0.07439793 0.0719066  0.07493527 0.08258024 0.08052855 0.08177422\n",
            " 0.08577988 0.08253139 0.08702555 0.09112891 0.09044502 0.0897367\n",
            " 0.08900396 0.0930829  0.09686874 0.0984075  0.09916467 0.10573494\n",
            " 0.11076645 0.11699477 0.11374628 0.11831371 0.11109985 0.11332417\n",
            " 0.11444401 0.11484589 0.11488875 0.11481524 0.11475955 0.11478289\n",
            " 0.11490511 0.11512593 0.11543636 0.11582368 0.11627401 0.11677302\n",
            " 0.11730669 0.11786184 0.11842667 0.11899114 0.11954717 0.12008871\n",
            " 0.12061185 0.12111437 0.12159573 0.12205659 0.12249861 0.12292396\n",
            " 0.12333532 0.12373539 0.12412667 0.12451164]\n",
            "0 day output [[0.12489232]]\n",
            "1 day input [0.06431049 0.07139368 0.07215085 0.07627864 0.08228714 0.08872307\n",
            " 0.08443652 0.09222803 0.08636608 0.092399   0.09156856 0.09322945\n",
            " 0.08900396 0.08995652 0.08614626 0.09195936 0.09293635 0.09213033\n",
            " 0.09015192 0.08990767 0.08497387 0.08761174 0.07615651 0.07676713\n",
            " 0.0807728  0.08192077 0.07371403 0.0714181  0.06374872 0.06912217\n",
            " 0.07517952 0.0722974  0.06882908 0.06843828 0.07483758 0.07024571\n",
            " 0.07432465 0.07383616 0.07371403 0.06987934 0.06824288 0.06743686\n",
            " 0.069342   0.06562943 0.07136925 0.07139368 0.07344536 0.07439793\n",
            " 0.0719066  0.07493527 0.08258024 0.08052855 0.08177422 0.08577988\n",
            " 0.08253139 0.08702555 0.09112891 0.09044502 0.0897367  0.08900396\n",
            " 0.0930829  0.09686874 0.0984075  0.09916467 0.10573494 0.11076645\n",
            " 0.11699477 0.11374628 0.11831371 0.11109985 0.11332417 0.11444401\n",
            " 0.11484589 0.11488875 0.11481524 0.11475955 0.11478289 0.11490511\n",
            " 0.11512593 0.11543636 0.11582368 0.11627401 0.11677302 0.11730669\n",
            " 0.11786184 0.11842667 0.11899114 0.11954717 0.12008871 0.12061185\n",
            " 0.12111437 0.12159573 0.12205659 0.12249861 0.12292396 0.12333532\n",
            " 0.12373539 0.12412667 0.12451164 0.12489232]\n",
            "1 day output [[0.12527034]]\n",
            "2 day input [0.07139368 0.07215085 0.07627864 0.08228714 0.08872307 0.08443652\n",
            " 0.09222803 0.08636608 0.092399   0.09156856 0.09322945 0.08900396\n",
            " 0.08995652 0.08614626 0.09195936 0.09293635 0.09213033 0.09015192\n",
            " 0.08990767 0.08497387 0.08761174 0.07615651 0.07676713 0.0807728\n",
            " 0.08192077 0.07371403 0.0714181  0.06374872 0.06912217 0.07517952\n",
            " 0.0722974  0.06882908 0.06843828 0.07483758 0.07024571 0.07432465\n",
            " 0.07383616 0.07371403 0.06987934 0.06824288 0.06743686 0.069342\n",
            " 0.06562943 0.07136925 0.07139368 0.07344536 0.07439793 0.0719066\n",
            " 0.07493527 0.08258024 0.08052855 0.08177422 0.08577988 0.08253139\n",
            " 0.08702555 0.09112891 0.09044502 0.0897367  0.08900396 0.0930829\n",
            " 0.09686874 0.0984075  0.09916467 0.10573494 0.11076645 0.11699477\n",
            " 0.11374628 0.11831371 0.11109985 0.11332417 0.11444401 0.11484589\n",
            " 0.11488875 0.11481524 0.11475955 0.11478289 0.11490511 0.11512593\n",
            " 0.11543636 0.11582368 0.11627401 0.11677302 0.11730669 0.11786184\n",
            " 0.11842667 0.11899114 0.11954717 0.12008871 0.12061185 0.12111437\n",
            " 0.12159573 0.12205659 0.12249861 0.12292396 0.12333532 0.12373539\n",
            " 0.12412667 0.12451164 0.12489232 0.12527034]\n",
            "2 day output [[0.12564698]]\n",
            "3 day input [0.07215085 0.07627864 0.08228714 0.08872307 0.08443652 0.09222803\n",
            " 0.08636608 0.092399   0.09156856 0.09322945 0.08900396 0.08995652\n",
            " 0.08614626 0.09195936 0.09293635 0.09213033 0.09015192 0.08990767\n",
            " 0.08497387 0.08761174 0.07615651 0.07676713 0.0807728  0.08192077\n",
            " 0.07371403 0.0714181  0.06374872 0.06912217 0.07517952 0.0722974\n",
            " 0.06882908 0.06843828 0.07483758 0.07024571 0.07432465 0.07383616\n",
            " 0.07371403 0.06987934 0.06824288 0.06743686 0.069342   0.06562943\n",
            " 0.07136925 0.07139368 0.07344536 0.07439793 0.0719066  0.07493527\n",
            " 0.08258024 0.08052855 0.08177422 0.08577988 0.08253139 0.08702555\n",
            " 0.09112891 0.09044502 0.0897367  0.08900396 0.0930829  0.09686874\n",
            " 0.0984075  0.09916467 0.10573494 0.11076645 0.11699477 0.11374628\n",
            " 0.11831371 0.11109985 0.11332417 0.11444401 0.11484589 0.11488875\n",
            " 0.11481524 0.11475955 0.11478289 0.11490511 0.11512593 0.11543636\n",
            " 0.11582368 0.11627401 0.11677302 0.11730669 0.11786184 0.11842667\n",
            " 0.11899114 0.11954717 0.12008871 0.12061185 0.12111437 0.12159573\n",
            " 0.12205659 0.12249861 0.12292396 0.12333532 0.12373539 0.12412667\n",
            " 0.12451164 0.12489232 0.12527034 0.12564698]\n",
            "3 day output [[0.1260231]]\n",
            "4 day input [0.07627864 0.08228714 0.08872307 0.08443652 0.09222803 0.08636608\n",
            " 0.092399   0.09156856 0.09322945 0.08900396 0.08995652 0.08614626\n",
            " 0.09195936 0.09293635 0.09213033 0.09015192 0.08990767 0.08497387\n",
            " 0.08761174 0.07615651 0.07676713 0.0807728  0.08192077 0.07371403\n",
            " 0.0714181  0.06374872 0.06912217 0.07517952 0.0722974  0.06882908\n",
            " 0.06843828 0.07483758 0.07024571 0.07432465 0.07383616 0.07371403\n",
            " 0.06987934 0.06824288 0.06743686 0.069342   0.06562943 0.07136925\n",
            " 0.07139368 0.07344536 0.07439793 0.0719066  0.07493527 0.08258024\n",
            " 0.08052855 0.08177422 0.08577988 0.08253139 0.08702555 0.09112891\n",
            " 0.09044502 0.0897367  0.08900396 0.0930829  0.09686874 0.0984075\n",
            " 0.09916467 0.10573494 0.11076645 0.11699477 0.11374628 0.11831371\n",
            " 0.11109985 0.11332417 0.11444401 0.11484589 0.11488875 0.11481524\n",
            " 0.11475955 0.11478289 0.11490511 0.11512593 0.11543636 0.11582368\n",
            " 0.11627401 0.11677302 0.11730669 0.11786184 0.11842667 0.11899114\n",
            " 0.11954717 0.12008871 0.12061185 0.12111437 0.12159573 0.12205659\n",
            " 0.12249861 0.12292396 0.12333532 0.12373539 0.12412667 0.12451164\n",
            " 0.12489232 0.12527034 0.12564698 0.1260231 ]\n",
            "4 day output [[0.12639926]]\n",
            "5 day input [0.08228714 0.08872307 0.08443652 0.09222803 0.08636608 0.092399\n",
            " 0.09156856 0.09322945 0.08900396 0.08995652 0.08614626 0.09195936\n",
            " 0.09293635 0.09213033 0.09015192 0.08990767 0.08497387 0.08761174\n",
            " 0.07615651 0.07676713 0.0807728  0.08192077 0.07371403 0.0714181\n",
            " 0.06374872 0.06912217 0.07517952 0.0722974  0.06882908 0.06843828\n",
            " 0.07483758 0.07024571 0.07432465 0.07383616 0.07371403 0.06987934\n",
            " 0.06824288 0.06743686 0.069342   0.06562943 0.07136925 0.07139368\n",
            " 0.07344536 0.07439793 0.0719066  0.07493527 0.08258024 0.08052855\n",
            " 0.08177422 0.08577988 0.08253139 0.08702555 0.09112891 0.09044502\n",
            " 0.0897367  0.08900396 0.0930829  0.09686874 0.0984075  0.09916467\n",
            " 0.10573494 0.11076645 0.11699477 0.11374628 0.11831371 0.11109985\n",
            " 0.11332417 0.11444401 0.11484589 0.11488875 0.11481524 0.11475955\n",
            " 0.11478289 0.11490511 0.11512593 0.11543636 0.11582368 0.11627401\n",
            " 0.11677302 0.11730669 0.11786184 0.11842667 0.11899114 0.11954717\n",
            " 0.12008871 0.12061185 0.12111437 0.12159573 0.12205659 0.12249861\n",
            " 0.12292396 0.12333532 0.12373539 0.12412667 0.12451164 0.12489232\n",
            " 0.12527034 0.12564698 0.1260231  0.12639926]\n",
            "5 day output [[0.12677567]]\n",
            "6 day input [0.08872307 0.08443652 0.09222803 0.08636608 0.092399   0.09156856\n",
            " 0.09322945 0.08900396 0.08995652 0.08614626 0.09195936 0.09293635\n",
            " 0.09213033 0.09015192 0.08990767 0.08497387 0.08761174 0.07615651\n",
            " 0.07676713 0.0807728  0.08192077 0.07371403 0.0714181  0.06374872\n",
            " 0.06912217 0.07517952 0.0722974  0.06882908 0.06843828 0.07483758\n",
            " 0.07024571 0.07432465 0.07383616 0.07371403 0.06987934 0.06824288\n",
            " 0.06743686 0.069342   0.06562943 0.07136925 0.07139368 0.07344536\n",
            " 0.07439793 0.0719066  0.07493527 0.08258024 0.08052855 0.08177422\n",
            " 0.08577988 0.08253139 0.08702555 0.09112891 0.09044502 0.0897367\n",
            " 0.08900396 0.0930829  0.09686874 0.0984075  0.09916467 0.10573494\n",
            " 0.11076645 0.11699477 0.11374628 0.11831371 0.11109985 0.11332417\n",
            " 0.11444401 0.11484589 0.11488875 0.11481524 0.11475955 0.11478289\n",
            " 0.11490511 0.11512593 0.11543636 0.11582368 0.11627401 0.11677302\n",
            " 0.11730669 0.11786184 0.11842667 0.11899114 0.11954717 0.12008871\n",
            " 0.12061185 0.12111437 0.12159573 0.12205659 0.12249861 0.12292396\n",
            " 0.12333532 0.12373539 0.12412667 0.12451164 0.12489232 0.12527034\n",
            " 0.12564698 0.1260231  0.12639926 0.12677567]\n",
            "6 day output [[0.12715231]]\n",
            "7 day input [0.08443652 0.09222803 0.08636608 0.092399   0.09156856 0.09322945\n",
            " 0.08900396 0.08995652 0.08614626 0.09195936 0.09293635 0.09213033\n",
            " 0.09015192 0.08990767 0.08497387 0.08761174 0.07615651 0.07676713\n",
            " 0.0807728  0.08192077 0.07371403 0.0714181  0.06374872 0.06912217\n",
            " 0.07517952 0.0722974  0.06882908 0.06843828 0.07483758 0.07024571\n",
            " 0.07432465 0.07383616 0.07371403 0.06987934 0.06824288 0.06743686\n",
            " 0.069342   0.06562943 0.07136925 0.07139368 0.07344536 0.07439793\n",
            " 0.0719066  0.07493527 0.08258024 0.08052855 0.08177422 0.08577988\n",
            " 0.08253139 0.08702555 0.09112891 0.09044502 0.0897367  0.08900396\n",
            " 0.0930829  0.09686874 0.0984075  0.09916467 0.10573494 0.11076645\n",
            " 0.11699477 0.11374628 0.11831371 0.11109985 0.11332417 0.11444401\n",
            " 0.11484589 0.11488875 0.11481524 0.11475955 0.11478289 0.11490511\n",
            " 0.11512593 0.11543636 0.11582368 0.11627401 0.11677302 0.11730669\n",
            " 0.11786184 0.11842667 0.11899114 0.11954717 0.12008871 0.12061185\n",
            " 0.12111437 0.12159573 0.12205659 0.12249861 0.12292396 0.12333532\n",
            " 0.12373539 0.12412667 0.12451164 0.12489232 0.12527034 0.12564698\n",
            " 0.1260231  0.12639926 0.12677567 0.12715231]\n",
            "7 day output [[0.127529]]\n",
            "8 day input [0.09222803 0.08636608 0.092399   0.09156856 0.09322945 0.08900396\n",
            " 0.08995652 0.08614626 0.09195936 0.09293635 0.09213033 0.09015192\n",
            " 0.08990767 0.08497387 0.08761174 0.07615651 0.07676713 0.0807728\n",
            " 0.08192077 0.07371403 0.0714181  0.06374872 0.06912217 0.07517952\n",
            " 0.0722974  0.06882908 0.06843828 0.07483758 0.07024571 0.07432465\n",
            " 0.07383616 0.07371403 0.06987934 0.06824288 0.06743686 0.069342\n",
            " 0.06562943 0.07136925 0.07139368 0.07344536 0.07439793 0.0719066\n",
            " 0.07493527 0.08258024 0.08052855 0.08177422 0.08577988 0.08253139\n",
            " 0.08702555 0.09112891 0.09044502 0.0897367  0.08900396 0.0930829\n",
            " 0.09686874 0.0984075  0.09916467 0.10573494 0.11076645 0.11699477\n",
            " 0.11374628 0.11831371 0.11109985 0.11332417 0.11444401 0.11484589\n",
            " 0.11488875 0.11481524 0.11475955 0.11478289 0.11490511 0.11512593\n",
            " 0.11543636 0.11582368 0.11627401 0.11677302 0.11730669 0.11786184\n",
            " 0.11842667 0.11899114 0.11954717 0.12008871 0.12061185 0.12111437\n",
            " 0.12159573 0.12205659 0.12249861 0.12292396 0.12333532 0.12373539\n",
            " 0.12412667 0.12451164 0.12489232 0.12527034 0.12564698 0.1260231\n",
            " 0.12639926 0.12677567 0.12715231 0.127529  ]\n",
            "8 day output [[0.12790538]]\n",
            "9 day input [0.08636608 0.092399   0.09156856 0.09322945 0.08900396 0.08995652\n",
            " 0.08614626 0.09195936 0.09293635 0.09213033 0.09015192 0.08990767\n",
            " 0.08497387 0.08761174 0.07615651 0.07676713 0.0807728  0.08192077\n",
            " 0.07371403 0.0714181  0.06374872 0.06912217 0.07517952 0.0722974\n",
            " 0.06882908 0.06843828 0.07483758 0.07024571 0.07432465 0.07383616\n",
            " 0.07371403 0.06987934 0.06824288 0.06743686 0.069342   0.06562943\n",
            " 0.07136925 0.07139368 0.07344536 0.07439793 0.0719066  0.07493527\n",
            " 0.08258024 0.08052855 0.08177422 0.08577988 0.08253139 0.08702555\n",
            " 0.09112891 0.09044502 0.0897367  0.08900396 0.0930829  0.09686874\n",
            " 0.0984075  0.09916467 0.10573494 0.11076645 0.11699477 0.11374628\n",
            " 0.11831371 0.11109985 0.11332417 0.11444401 0.11484589 0.11488875\n",
            " 0.11481524 0.11475955 0.11478289 0.11490511 0.11512593 0.11543636\n",
            " 0.11582368 0.11627401 0.11677302 0.11730669 0.11786184 0.11842667\n",
            " 0.11899114 0.11954717 0.12008871 0.12061185 0.12111437 0.12159573\n",
            " 0.12205659 0.12249861 0.12292396 0.12333532 0.12373539 0.12412667\n",
            " 0.12451164 0.12489232 0.12527034 0.12564698 0.1260231  0.12639926\n",
            " 0.12677567 0.12715231 0.127529   0.12790538]\n",
            "9 day output [[0.12828104]]\n",
            "10 day input [0.092399   0.09156856 0.09322945 0.08900396 0.08995652 0.08614626\n",
            " 0.09195936 0.09293635 0.09213033 0.09015192 0.08990767 0.08497387\n",
            " 0.08761174 0.07615651 0.07676713 0.0807728  0.08192077 0.07371403\n",
            " 0.0714181  0.06374872 0.06912217 0.07517952 0.0722974  0.06882908\n",
            " 0.06843828 0.07483758 0.07024571 0.07432465 0.07383616 0.07371403\n",
            " 0.06987934 0.06824288 0.06743686 0.069342   0.06562943 0.07136925\n",
            " 0.07139368 0.07344536 0.07439793 0.0719066  0.07493527 0.08258024\n",
            " 0.08052855 0.08177422 0.08577988 0.08253139 0.08702555 0.09112891\n",
            " 0.09044502 0.0897367  0.08900396 0.0930829  0.09686874 0.0984075\n",
            " 0.09916467 0.10573494 0.11076645 0.11699477 0.11374628 0.11831371\n",
            " 0.11109985 0.11332417 0.11444401 0.11484589 0.11488875 0.11481524\n",
            " 0.11475955 0.11478289 0.11490511 0.11512593 0.11543636 0.11582368\n",
            " 0.11627401 0.11677302 0.11730669 0.11786184 0.11842667 0.11899114\n",
            " 0.11954717 0.12008871 0.12061185 0.12111437 0.12159573 0.12205659\n",
            " 0.12249861 0.12292396 0.12333532 0.12373539 0.12412667 0.12451164\n",
            " 0.12489232 0.12527034 0.12564698 0.1260231  0.12639926 0.12677567\n",
            " 0.12715231 0.127529   0.12790538 0.12828104]\n",
            "10 day output [[0.12865561]]\n",
            "11 day input [0.09156856 0.09322945 0.08900396 0.08995652 0.08614626 0.09195936\n",
            " 0.09293635 0.09213033 0.09015192 0.08990767 0.08497387 0.08761174\n",
            " 0.07615651 0.07676713 0.0807728  0.08192077 0.07371403 0.0714181\n",
            " 0.06374872 0.06912217 0.07517952 0.0722974  0.06882908 0.06843828\n",
            " 0.07483758 0.07024571 0.07432465 0.07383616 0.07371403 0.06987934\n",
            " 0.06824288 0.06743686 0.069342   0.06562943 0.07136925 0.07139368\n",
            " 0.07344536 0.07439793 0.0719066  0.07493527 0.08258024 0.08052855\n",
            " 0.08177422 0.08577988 0.08253139 0.08702555 0.09112891 0.09044502\n",
            " 0.0897367  0.08900396 0.0930829  0.09686874 0.0984075  0.09916467\n",
            " 0.10573494 0.11076645 0.11699477 0.11374628 0.11831371 0.11109985\n",
            " 0.11332417 0.11444401 0.11484589 0.11488875 0.11481524 0.11475955\n",
            " 0.11478289 0.11490511 0.11512593 0.11543636 0.11582368 0.11627401\n",
            " 0.11677302 0.11730669 0.11786184 0.11842667 0.11899114 0.11954717\n",
            " 0.12008871 0.12061185 0.12111437 0.12159573 0.12205659 0.12249861\n",
            " 0.12292396 0.12333532 0.12373539 0.12412667 0.12451164 0.12489232\n",
            " 0.12527034 0.12564698 0.1260231  0.12639926 0.12677567 0.12715231\n",
            " 0.127529   0.12790538 0.12828104 0.12865561]\n",
            "11 day output [[0.1290287]]\n",
            "12 day input [0.09322945 0.08900396 0.08995652 0.08614626 0.09195936 0.09293635\n",
            " 0.09213033 0.09015192 0.08990767 0.08497387 0.08761174 0.07615651\n",
            " 0.07676713 0.0807728  0.08192077 0.07371403 0.0714181  0.06374872\n",
            " 0.06912217 0.07517952 0.0722974  0.06882908 0.06843828 0.07483758\n",
            " 0.07024571 0.07432465 0.07383616 0.07371403 0.06987934 0.06824288\n",
            " 0.06743686 0.069342   0.06562943 0.07136925 0.07139368 0.07344536\n",
            " 0.07439793 0.0719066  0.07493527 0.08258024 0.08052855 0.08177422\n",
            " 0.08577988 0.08253139 0.08702555 0.09112891 0.09044502 0.0897367\n",
            " 0.08900396 0.0930829  0.09686874 0.0984075  0.09916467 0.10573494\n",
            " 0.11076645 0.11699477 0.11374628 0.11831371 0.11109985 0.11332417\n",
            " 0.11444401 0.11484589 0.11488875 0.11481524 0.11475955 0.11478289\n",
            " 0.11490511 0.11512593 0.11543636 0.11582368 0.11627401 0.11677302\n",
            " 0.11730669 0.11786184 0.11842667 0.11899114 0.11954717 0.12008871\n",
            " 0.12061185 0.12111437 0.12159573 0.12205659 0.12249861 0.12292396\n",
            " 0.12333532 0.12373539 0.12412667 0.12451164 0.12489232 0.12527034\n",
            " 0.12564698 0.1260231  0.12639926 0.12677567 0.12715231 0.127529\n",
            " 0.12790538 0.12828104 0.12865561 0.12902869]\n",
            "12 day output [[0.12939984]]\n",
            "13 day input [0.08900396 0.08995652 0.08614626 0.09195936 0.09293635 0.09213033\n",
            " 0.09015192 0.08990767 0.08497387 0.08761174 0.07615651 0.07676713\n",
            " 0.0807728  0.08192077 0.07371403 0.0714181  0.06374872 0.06912217\n",
            " 0.07517952 0.0722974  0.06882908 0.06843828 0.07483758 0.07024571\n",
            " 0.07432465 0.07383616 0.07371403 0.06987934 0.06824288 0.06743686\n",
            " 0.069342   0.06562943 0.07136925 0.07139368 0.07344536 0.07439793\n",
            " 0.0719066  0.07493527 0.08258024 0.08052855 0.08177422 0.08577988\n",
            " 0.08253139 0.08702555 0.09112891 0.09044502 0.0897367  0.08900396\n",
            " 0.0930829  0.09686874 0.0984075  0.09916467 0.10573494 0.11076645\n",
            " 0.11699477 0.11374628 0.11831371 0.11109985 0.11332417 0.11444401\n",
            " 0.11484589 0.11488875 0.11481524 0.11475955 0.11478289 0.11490511\n",
            " 0.11512593 0.11543636 0.11582368 0.11627401 0.11677302 0.11730669\n",
            " 0.11786184 0.11842667 0.11899114 0.11954717 0.12008871 0.12061185\n",
            " 0.12111437 0.12159573 0.12205659 0.12249861 0.12292396 0.12333532\n",
            " 0.12373539 0.12412667 0.12451164 0.12489232 0.12527034 0.12564698\n",
            " 0.1260231  0.12639926 0.12677567 0.12715231 0.127529   0.12790538\n",
            " 0.12828104 0.12865561 0.12902869 0.12939984]\n",
            "13 day output [[0.12976877]]\n",
            "14 day input [0.08995652 0.08614626 0.09195936 0.09293635 0.09213033 0.09015192\n",
            " 0.08990767 0.08497387 0.08761174 0.07615651 0.07676713 0.0807728\n",
            " 0.08192077 0.07371403 0.0714181  0.06374872 0.06912217 0.07517952\n",
            " 0.0722974  0.06882908 0.06843828 0.07483758 0.07024571 0.07432465\n",
            " 0.07383616 0.07371403 0.06987934 0.06824288 0.06743686 0.069342\n",
            " 0.06562943 0.07136925 0.07139368 0.07344536 0.07439793 0.0719066\n",
            " 0.07493527 0.08258024 0.08052855 0.08177422 0.08577988 0.08253139\n",
            " 0.08702555 0.09112891 0.09044502 0.0897367  0.08900396 0.0930829\n",
            " 0.09686874 0.0984075  0.09916467 0.10573494 0.11076645 0.11699477\n",
            " 0.11374628 0.11831371 0.11109985 0.11332417 0.11444401 0.11484589\n",
            " 0.11488875 0.11481524 0.11475955 0.11478289 0.11490511 0.11512593\n",
            " 0.11543636 0.11582368 0.11627401 0.11677302 0.11730669 0.11786184\n",
            " 0.11842667 0.11899114 0.11954717 0.12008871 0.12061185 0.12111437\n",
            " 0.12159573 0.12205659 0.12249861 0.12292396 0.12333532 0.12373539\n",
            " 0.12412667 0.12451164 0.12489232 0.12527034 0.12564698 0.1260231\n",
            " 0.12639926 0.12677567 0.12715231 0.127529   0.12790538 0.12828104\n",
            " 0.12865561 0.12902869 0.12939984 0.12976877]\n",
            "14 day output [[0.13013524]]\n",
            "15 day input [0.08614626 0.09195936 0.09293635 0.09213033 0.09015192 0.08990767\n",
            " 0.08497387 0.08761174 0.07615651 0.07676713 0.0807728  0.08192077\n",
            " 0.07371403 0.0714181  0.06374872 0.06912217 0.07517952 0.0722974\n",
            " 0.06882908 0.06843828 0.07483758 0.07024571 0.07432465 0.07383616\n",
            " 0.07371403 0.06987934 0.06824288 0.06743686 0.069342   0.06562943\n",
            " 0.07136925 0.07139368 0.07344536 0.07439793 0.0719066  0.07493527\n",
            " 0.08258024 0.08052855 0.08177422 0.08577988 0.08253139 0.08702555\n",
            " 0.09112891 0.09044502 0.0897367  0.08900396 0.0930829  0.09686874\n",
            " 0.0984075  0.09916467 0.10573494 0.11076645 0.11699477 0.11374628\n",
            " 0.11831371 0.11109985 0.11332417 0.11444401 0.11484589 0.11488875\n",
            " 0.11481524 0.11475955 0.11478289 0.11490511 0.11512593 0.11543636\n",
            " 0.11582368 0.11627401 0.11677302 0.11730669 0.11786184 0.11842667\n",
            " 0.11899114 0.11954717 0.12008871 0.12061185 0.12111437 0.12159573\n",
            " 0.12205659 0.12249861 0.12292396 0.12333532 0.12373539 0.12412667\n",
            " 0.12451164 0.12489232 0.12527034 0.12564698 0.1260231  0.12639926\n",
            " 0.12677567 0.12715231 0.127529   0.12790538 0.12828104 0.12865561\n",
            " 0.12902869 0.12939984 0.12976877 0.13013524]\n",
            "15 day output [[0.13049904]]\n",
            "16 day input [0.09195936 0.09293635 0.09213033 0.09015192 0.08990767 0.08497387\n",
            " 0.08761174 0.07615651 0.07676713 0.0807728  0.08192077 0.07371403\n",
            " 0.0714181  0.06374872 0.06912217 0.07517952 0.0722974  0.06882908\n",
            " 0.06843828 0.07483758 0.07024571 0.07432465 0.07383616 0.07371403\n",
            " 0.06987934 0.06824288 0.06743686 0.069342   0.06562943 0.07136925\n",
            " 0.07139368 0.07344536 0.07439793 0.0719066  0.07493527 0.08258024\n",
            " 0.08052855 0.08177422 0.08577988 0.08253139 0.08702555 0.09112891\n",
            " 0.09044502 0.0897367  0.08900396 0.0930829  0.09686874 0.0984075\n",
            " 0.09916467 0.10573494 0.11076645 0.11699477 0.11374628 0.11831371\n",
            " 0.11109985 0.11332417 0.11444401 0.11484589 0.11488875 0.11481524\n",
            " 0.11475955 0.11478289 0.11490511 0.11512593 0.11543636 0.11582368\n",
            " 0.11627401 0.11677302 0.11730669 0.11786184 0.11842667 0.11899114\n",
            " 0.11954717 0.12008871 0.12061185 0.12111437 0.12159573 0.12205659\n",
            " 0.12249861 0.12292396 0.12333532 0.12373539 0.12412667 0.12451164\n",
            " 0.12489232 0.12527034 0.12564698 0.1260231  0.12639926 0.12677567\n",
            " 0.12715231 0.127529   0.12790538 0.12828104 0.12865561 0.12902869\n",
            " 0.12939984 0.12976877 0.13013524 0.13049904]\n",
            "16 day output [[0.13086008]]\n",
            "17 day input [0.09293635 0.09213033 0.09015192 0.08990767 0.08497387 0.08761174\n",
            " 0.07615651 0.07676713 0.0807728  0.08192077 0.07371403 0.0714181\n",
            " 0.06374872 0.06912217 0.07517952 0.0722974  0.06882908 0.06843828\n",
            " 0.07483758 0.07024571 0.07432465 0.07383616 0.07371403 0.06987934\n",
            " 0.06824288 0.06743686 0.069342   0.06562943 0.07136925 0.07139368\n",
            " 0.07344536 0.07439793 0.0719066  0.07493527 0.08258024 0.08052855\n",
            " 0.08177422 0.08577988 0.08253139 0.08702555 0.09112891 0.09044502\n",
            " 0.0897367  0.08900396 0.0930829  0.09686874 0.0984075  0.09916467\n",
            " 0.10573494 0.11076645 0.11699477 0.11374628 0.11831371 0.11109985\n",
            " 0.11332417 0.11444401 0.11484589 0.11488875 0.11481524 0.11475955\n",
            " 0.11478289 0.11490511 0.11512593 0.11543636 0.11582368 0.11627401\n",
            " 0.11677302 0.11730669 0.11786184 0.11842667 0.11899114 0.11954717\n",
            " 0.12008871 0.12061185 0.12111437 0.12159573 0.12205659 0.12249861\n",
            " 0.12292396 0.12333532 0.12373539 0.12412667 0.12451164 0.12489232\n",
            " 0.12527034 0.12564698 0.1260231  0.12639926 0.12677567 0.12715231\n",
            " 0.127529   0.12790538 0.12828104 0.12865561 0.12902869 0.12939984\n",
            " 0.12976877 0.13013524 0.13049904 0.13086008]\n",
            "17 day output [[0.13121822]]\n",
            "18 day input [0.09213033 0.09015192 0.08990767 0.08497387 0.08761174 0.07615651\n",
            " 0.07676713 0.0807728  0.08192077 0.07371403 0.0714181  0.06374872\n",
            " 0.06912217 0.07517952 0.0722974  0.06882908 0.06843828 0.07483758\n",
            " 0.07024571 0.07432465 0.07383616 0.07371403 0.06987934 0.06824288\n",
            " 0.06743686 0.069342   0.06562943 0.07136925 0.07139368 0.07344536\n",
            " 0.07439793 0.0719066  0.07493527 0.08258024 0.08052855 0.08177422\n",
            " 0.08577988 0.08253139 0.08702555 0.09112891 0.09044502 0.0897367\n",
            " 0.08900396 0.0930829  0.09686874 0.0984075  0.09916467 0.10573494\n",
            " 0.11076645 0.11699477 0.11374628 0.11831371 0.11109985 0.11332417\n",
            " 0.11444401 0.11484589 0.11488875 0.11481524 0.11475955 0.11478289\n",
            " 0.11490511 0.11512593 0.11543636 0.11582368 0.11627401 0.11677302\n",
            " 0.11730669 0.11786184 0.11842667 0.11899114 0.11954717 0.12008871\n",
            " 0.12061185 0.12111437 0.12159573 0.12205659 0.12249861 0.12292396\n",
            " 0.12333532 0.12373539 0.12412667 0.12451164 0.12489232 0.12527034\n",
            " 0.12564698 0.1260231  0.12639926 0.12677567 0.12715231 0.127529\n",
            " 0.12790538 0.12828104 0.12865561 0.12902869 0.12939984 0.12976877\n",
            " 0.13013524 0.13049904 0.13086008 0.13121822]\n",
            "18 day output [[0.13157356]]\n",
            "19 day input [0.09015192 0.08990767 0.08497387 0.08761174 0.07615651 0.07676713\n",
            " 0.0807728  0.08192077 0.07371403 0.0714181  0.06374872 0.06912217\n",
            " 0.07517952 0.0722974  0.06882908 0.06843828 0.07483758 0.07024571\n",
            " 0.07432465 0.07383616 0.07371403 0.06987934 0.06824288 0.06743686\n",
            " 0.069342   0.06562943 0.07136925 0.07139368 0.07344536 0.07439793\n",
            " 0.0719066  0.07493527 0.08258024 0.08052855 0.08177422 0.08577988\n",
            " 0.08253139 0.08702555 0.09112891 0.09044502 0.0897367  0.08900396\n",
            " 0.0930829  0.09686874 0.0984075  0.09916467 0.10573494 0.11076645\n",
            " 0.11699477 0.11374628 0.11831371 0.11109985 0.11332417 0.11444401\n",
            " 0.11484589 0.11488875 0.11481524 0.11475955 0.11478289 0.11490511\n",
            " 0.11512593 0.11543636 0.11582368 0.11627401 0.11677302 0.11730669\n",
            " 0.11786184 0.11842667 0.11899114 0.11954717 0.12008871 0.12061185\n",
            " 0.12111437 0.12159573 0.12205659 0.12249861 0.12292396 0.12333532\n",
            " 0.12373539 0.12412667 0.12451164 0.12489232 0.12527034 0.12564698\n",
            " 0.1260231  0.12639926 0.12677567 0.12715231 0.127529   0.12790538\n",
            " 0.12828104 0.12865561 0.12902869 0.12939984 0.12976877 0.13013524\n",
            " 0.13049904 0.13086008 0.13121822 0.13157356]\n",
            "19 day output [[0.13192607]]\n",
            "20 day input [0.08990767 0.08497387 0.08761174 0.07615651 0.07676713 0.0807728\n",
            " 0.08192077 0.07371403 0.0714181  0.06374872 0.06912217 0.07517952\n",
            " 0.0722974  0.06882908 0.06843828 0.07483758 0.07024571 0.07432465\n",
            " 0.07383616 0.07371403 0.06987934 0.06824288 0.06743686 0.069342\n",
            " 0.06562943 0.07136925 0.07139368 0.07344536 0.07439793 0.0719066\n",
            " 0.07493527 0.08258024 0.08052855 0.08177422 0.08577988 0.08253139\n",
            " 0.08702555 0.09112891 0.09044502 0.0897367  0.08900396 0.0930829\n",
            " 0.09686874 0.0984075  0.09916467 0.10573494 0.11076645 0.11699477\n",
            " 0.11374628 0.11831371 0.11109985 0.11332417 0.11444401 0.11484589\n",
            " 0.11488875 0.11481524 0.11475955 0.11478289 0.11490511 0.11512593\n",
            " 0.11543636 0.11582368 0.11627401 0.11677302 0.11730669 0.11786184\n",
            " 0.11842667 0.11899114 0.11954717 0.12008871 0.12061185 0.12111437\n",
            " 0.12159573 0.12205659 0.12249861 0.12292396 0.12333532 0.12373539\n",
            " 0.12412667 0.12451164 0.12489232 0.12527034 0.12564698 0.1260231\n",
            " 0.12639926 0.12677567 0.12715231 0.127529   0.12790538 0.12828104\n",
            " 0.12865561 0.12902869 0.12939984 0.12976877 0.13013524 0.13049904\n",
            " 0.13086008 0.13121822 0.13157356 0.13192607]\n",
            "20 day output [[0.13227582]]\n",
            "21 day input [0.08497387 0.08761174 0.07615651 0.07676713 0.0807728  0.08192077\n",
            " 0.07371403 0.0714181  0.06374872 0.06912217 0.07517952 0.0722974\n",
            " 0.06882908 0.06843828 0.07483758 0.07024571 0.07432465 0.07383616\n",
            " 0.07371403 0.06987934 0.06824288 0.06743686 0.069342   0.06562943\n",
            " 0.07136925 0.07139368 0.07344536 0.07439793 0.0719066  0.07493527\n",
            " 0.08258024 0.08052855 0.08177422 0.08577988 0.08253139 0.08702555\n",
            " 0.09112891 0.09044502 0.0897367  0.08900396 0.0930829  0.09686874\n",
            " 0.0984075  0.09916467 0.10573494 0.11076645 0.11699477 0.11374628\n",
            " 0.11831371 0.11109985 0.11332417 0.11444401 0.11484589 0.11488875\n",
            " 0.11481524 0.11475955 0.11478289 0.11490511 0.11512593 0.11543636\n",
            " 0.11582368 0.11627401 0.11677302 0.11730669 0.11786184 0.11842667\n",
            " 0.11899114 0.11954717 0.12008871 0.12061185 0.12111437 0.12159573\n",
            " 0.12205659 0.12249861 0.12292396 0.12333532 0.12373539 0.12412667\n",
            " 0.12451164 0.12489232 0.12527034 0.12564698 0.1260231  0.12639926\n",
            " 0.12677567 0.12715231 0.127529   0.12790538 0.12828104 0.12865561\n",
            " 0.12902869 0.12939984 0.12976877 0.13013524 0.13049904 0.13086008\n",
            " 0.13121822 0.13157356 0.13192607 0.13227582]\n",
            "21 day output [[0.13262296]]\n",
            "22 day input [0.08761174 0.07615651 0.07676713 0.0807728  0.08192077 0.07371403\n",
            " 0.0714181  0.06374872 0.06912217 0.07517952 0.0722974  0.06882908\n",
            " 0.06843828 0.07483758 0.07024571 0.07432465 0.07383616 0.07371403\n",
            " 0.06987934 0.06824288 0.06743686 0.069342   0.06562943 0.07136925\n",
            " 0.07139368 0.07344536 0.07439793 0.0719066  0.07493527 0.08258024\n",
            " 0.08052855 0.08177422 0.08577988 0.08253139 0.08702555 0.09112891\n",
            " 0.09044502 0.0897367  0.08900396 0.0930829  0.09686874 0.0984075\n",
            " 0.09916467 0.10573494 0.11076645 0.11699477 0.11374628 0.11831371\n",
            " 0.11109985 0.11332417 0.11444401 0.11484589 0.11488875 0.11481524\n",
            " 0.11475955 0.11478289 0.11490511 0.11512593 0.11543636 0.11582368\n",
            " 0.11627401 0.11677302 0.11730669 0.11786184 0.11842667 0.11899114\n",
            " 0.11954717 0.12008871 0.12061185 0.12111437 0.12159573 0.12205659\n",
            " 0.12249861 0.12292396 0.12333532 0.12373539 0.12412667 0.12451164\n",
            " 0.12489232 0.12527034 0.12564698 0.1260231  0.12639926 0.12677567\n",
            " 0.12715231 0.127529   0.12790538 0.12828104 0.12865561 0.12902869\n",
            " 0.12939984 0.12976877 0.13013524 0.13049904 0.13086008 0.13121822\n",
            " 0.13157356 0.13192607 0.13227582 0.13262296]\n",
            "22 day output [[0.13296749]]\n",
            "23 day input [0.07615651 0.07676713 0.0807728  0.08192077 0.07371403 0.0714181\n",
            " 0.06374872 0.06912217 0.07517952 0.0722974  0.06882908 0.06843828\n",
            " 0.07483758 0.07024571 0.07432465 0.07383616 0.07371403 0.06987934\n",
            " 0.06824288 0.06743686 0.069342   0.06562943 0.07136925 0.07139368\n",
            " 0.07344536 0.07439793 0.0719066  0.07493527 0.08258024 0.08052855\n",
            " 0.08177422 0.08577988 0.08253139 0.08702555 0.09112891 0.09044502\n",
            " 0.0897367  0.08900396 0.0930829  0.09686874 0.0984075  0.09916467\n",
            " 0.10573494 0.11076645 0.11699477 0.11374628 0.11831371 0.11109985\n",
            " 0.11332417 0.11444401 0.11484589 0.11488875 0.11481524 0.11475955\n",
            " 0.11478289 0.11490511 0.11512593 0.11543636 0.11582368 0.11627401\n",
            " 0.11677302 0.11730669 0.11786184 0.11842667 0.11899114 0.11954717\n",
            " 0.12008871 0.12061185 0.12111437 0.12159573 0.12205659 0.12249861\n",
            " 0.12292396 0.12333532 0.12373539 0.12412667 0.12451164 0.12489232\n",
            " 0.12527034 0.12564698 0.1260231  0.12639926 0.12677567 0.12715231\n",
            " 0.127529   0.12790538 0.12828104 0.12865561 0.12902869 0.12939984\n",
            " 0.12976877 0.13013524 0.13049904 0.13086008 0.13121822 0.13157356\n",
            " 0.13192607 0.13227582 0.13262296 0.13296749]\n",
            "23 day output [[0.13330956]]\n",
            "24 day input [0.07676713 0.0807728  0.08192077 0.07371403 0.0714181  0.06374872\n",
            " 0.06912217 0.07517952 0.0722974  0.06882908 0.06843828 0.07483758\n",
            " 0.07024571 0.07432465 0.07383616 0.07371403 0.06987934 0.06824288\n",
            " 0.06743686 0.069342   0.06562943 0.07136925 0.07139368 0.07344536\n",
            " 0.07439793 0.0719066  0.07493527 0.08258024 0.08052855 0.08177422\n",
            " 0.08577988 0.08253139 0.08702555 0.09112891 0.09044502 0.0897367\n",
            " 0.08900396 0.0930829  0.09686874 0.0984075  0.09916467 0.10573494\n",
            " 0.11076645 0.11699477 0.11374628 0.11831371 0.11109985 0.11332417\n",
            " 0.11444401 0.11484589 0.11488875 0.11481524 0.11475955 0.11478289\n",
            " 0.11490511 0.11512593 0.11543636 0.11582368 0.11627401 0.11677302\n",
            " 0.11730669 0.11786184 0.11842667 0.11899114 0.11954717 0.12008871\n",
            " 0.12061185 0.12111437 0.12159573 0.12205659 0.12249861 0.12292396\n",
            " 0.12333532 0.12373539 0.12412667 0.12451164 0.12489232 0.12527034\n",
            " 0.12564698 0.1260231  0.12639926 0.12677567 0.12715231 0.127529\n",
            " 0.12790538 0.12828104 0.12865561 0.12902869 0.12939984 0.12976877\n",
            " 0.13013524 0.13049904 0.13086008 0.13121822 0.13157356 0.13192607\n",
            " 0.13227582 0.13262296 0.13296749 0.13330956]\n",
            "24 day output [[0.13364927]]\n",
            "25 day input [0.0807728  0.08192077 0.07371403 0.0714181  0.06374872 0.06912217\n",
            " 0.07517952 0.0722974  0.06882908 0.06843828 0.07483758 0.07024571\n",
            " 0.07432465 0.07383616 0.07371403 0.06987934 0.06824288 0.06743686\n",
            " 0.069342   0.06562943 0.07136925 0.07139368 0.07344536 0.07439793\n",
            " 0.0719066  0.07493527 0.08258024 0.08052855 0.08177422 0.08577988\n",
            " 0.08253139 0.08702555 0.09112891 0.09044502 0.0897367  0.08900396\n",
            " 0.0930829  0.09686874 0.0984075  0.09916467 0.10573494 0.11076645\n",
            " 0.11699477 0.11374628 0.11831371 0.11109985 0.11332417 0.11444401\n",
            " 0.11484589 0.11488875 0.11481524 0.11475955 0.11478289 0.11490511\n",
            " 0.11512593 0.11543636 0.11582368 0.11627401 0.11677302 0.11730669\n",
            " 0.11786184 0.11842667 0.11899114 0.11954717 0.12008871 0.12061185\n",
            " 0.12111437 0.12159573 0.12205659 0.12249861 0.12292396 0.12333532\n",
            " 0.12373539 0.12412667 0.12451164 0.12489232 0.12527034 0.12564698\n",
            " 0.1260231  0.12639926 0.12677567 0.12715231 0.127529   0.12790538\n",
            " 0.12828104 0.12865561 0.12902869 0.12939984 0.12976877 0.13013524\n",
            " 0.13049904 0.13086008 0.13121822 0.13157356 0.13192607 0.13227582\n",
            " 0.13262296 0.13296749 0.13330956 0.13364927]\n",
            "25 day output [[0.1339867]]\n",
            "26 day input [0.08192077 0.07371403 0.0714181  0.06374872 0.06912217 0.07517952\n",
            " 0.0722974  0.06882908 0.06843828 0.07483758 0.07024571 0.07432465\n",
            " 0.07383616 0.07371403 0.06987934 0.06824288 0.06743686 0.069342\n",
            " 0.06562943 0.07136925 0.07139368 0.07344536 0.07439793 0.0719066\n",
            " 0.07493527 0.08258024 0.08052855 0.08177422 0.08577988 0.08253139\n",
            " 0.08702555 0.09112891 0.09044502 0.0897367  0.08900396 0.0930829\n",
            " 0.09686874 0.0984075  0.09916467 0.10573494 0.11076645 0.11699477\n",
            " 0.11374628 0.11831371 0.11109985 0.11332417 0.11444401 0.11484589\n",
            " 0.11488875 0.11481524 0.11475955 0.11478289 0.11490511 0.11512593\n",
            " 0.11543636 0.11582368 0.11627401 0.11677302 0.11730669 0.11786184\n",
            " 0.11842667 0.11899114 0.11954717 0.12008871 0.12061185 0.12111437\n",
            " 0.12159573 0.12205659 0.12249861 0.12292396 0.12333532 0.12373539\n",
            " 0.12412667 0.12451164 0.12489232 0.12527034 0.12564698 0.1260231\n",
            " 0.12639926 0.12677567 0.12715231 0.127529   0.12790538 0.12828104\n",
            " 0.12865561 0.12902869 0.12939984 0.12976877 0.13013524 0.13049904\n",
            " 0.13086008 0.13121822 0.13157356 0.13192607 0.13227582 0.13262296\n",
            " 0.13296749 0.13330956 0.13364927 0.1339867 ]\n",
            "26 day output [[0.13432194]]\n",
            "27 day input [0.07371403 0.0714181  0.06374872 0.06912217 0.07517952 0.0722974\n",
            " 0.06882908 0.06843828 0.07483758 0.07024571 0.07432465 0.07383616\n",
            " 0.07371403 0.06987934 0.06824288 0.06743686 0.069342   0.06562943\n",
            " 0.07136925 0.07139368 0.07344536 0.07439793 0.0719066  0.07493527\n",
            " 0.08258024 0.08052855 0.08177422 0.08577988 0.08253139 0.08702555\n",
            " 0.09112891 0.09044502 0.0897367  0.08900396 0.0930829  0.09686874\n",
            " 0.0984075  0.09916467 0.10573494 0.11076645 0.11699477 0.11374628\n",
            " 0.11831371 0.11109985 0.11332417 0.11444401 0.11484589 0.11488875\n",
            " 0.11481524 0.11475955 0.11478289 0.11490511 0.11512593 0.11543636\n",
            " 0.11582368 0.11627401 0.11677302 0.11730669 0.11786184 0.11842667\n",
            " 0.11899114 0.11954717 0.12008871 0.12061185 0.12111437 0.12159573\n",
            " 0.12205659 0.12249861 0.12292396 0.12333532 0.12373539 0.12412667\n",
            " 0.12451164 0.12489232 0.12527034 0.12564698 0.1260231  0.12639926\n",
            " 0.12677567 0.12715231 0.127529   0.12790538 0.12828104 0.12865561\n",
            " 0.12902869 0.12939984 0.12976877 0.13013524 0.13049904 0.13086008\n",
            " 0.13121822 0.13157356 0.13192607 0.13227582 0.13262296 0.13296749\n",
            " 0.13330956 0.13364927 0.1339867  0.13432194]\n",
            "27 day output [[0.13465504]]\n",
            "28 day input [0.0714181  0.06374872 0.06912217 0.07517952 0.0722974  0.06882908\n",
            " 0.06843828 0.07483758 0.07024571 0.07432465 0.07383616 0.07371403\n",
            " 0.06987934 0.06824288 0.06743686 0.069342   0.06562943 0.07136925\n",
            " 0.07139368 0.07344536 0.07439793 0.0719066  0.07493527 0.08258024\n",
            " 0.08052855 0.08177422 0.08577988 0.08253139 0.08702555 0.09112891\n",
            " 0.09044502 0.0897367  0.08900396 0.0930829  0.09686874 0.0984075\n",
            " 0.09916467 0.10573494 0.11076645 0.11699477 0.11374628 0.11831371\n",
            " 0.11109985 0.11332417 0.11444401 0.11484589 0.11488875 0.11481524\n",
            " 0.11475955 0.11478289 0.11490511 0.11512593 0.11543636 0.11582368\n",
            " 0.11627401 0.11677302 0.11730669 0.11786184 0.11842667 0.11899114\n",
            " 0.11954717 0.12008871 0.12061185 0.12111437 0.12159573 0.12205659\n",
            " 0.12249861 0.12292396 0.12333532 0.12373539 0.12412667 0.12451164\n",
            " 0.12489232 0.12527034 0.12564698 0.1260231  0.12639926 0.12677567\n",
            " 0.12715231 0.127529   0.12790538 0.12828104 0.12865561 0.12902869\n",
            " 0.12939984 0.12976877 0.13013524 0.13049904 0.13086008 0.13121822\n",
            " 0.13157356 0.13192607 0.13227582 0.13262296 0.13296749 0.13330956\n",
            " 0.13364927 0.1339867  0.13432194 0.13465504]\n",
            "28 day output [[0.13498606]]\n",
            "29 day input [0.06374872 0.06912217 0.07517952 0.0722974  0.06882908 0.06843828\n",
            " 0.07483758 0.07024571 0.07432465 0.07383616 0.07371403 0.06987934\n",
            " 0.06824288 0.06743686 0.069342   0.06562943 0.07136925 0.07139368\n",
            " 0.07344536 0.07439793 0.0719066  0.07493527 0.08258024 0.08052855\n",
            " 0.08177422 0.08577988 0.08253139 0.08702555 0.09112891 0.09044502\n",
            " 0.0897367  0.08900396 0.0930829  0.09686874 0.0984075  0.09916467\n",
            " 0.10573494 0.11076645 0.11699477 0.11374628 0.11831371 0.11109985\n",
            " 0.11332417 0.11444401 0.11484589 0.11488875 0.11481524 0.11475955\n",
            " 0.11478289 0.11490511 0.11512593 0.11543636 0.11582368 0.11627401\n",
            " 0.11677302 0.11730669 0.11786184 0.11842667 0.11899114 0.11954717\n",
            " 0.12008871 0.12061185 0.12111437 0.12159573 0.12205659 0.12249861\n",
            " 0.12292396 0.12333532 0.12373539 0.12412667 0.12451164 0.12489232\n",
            " 0.12527034 0.12564698 0.1260231  0.12639926 0.12677567 0.12715231\n",
            " 0.127529   0.12790538 0.12828104 0.12865561 0.12902869 0.12939984\n",
            " 0.12976877 0.13013524 0.13049904 0.13086008 0.13121822 0.13157356\n",
            " 0.13192607 0.13227582 0.13262296 0.13296749 0.13330956 0.13364927\n",
            " 0.1339867  0.13432194 0.13465504 0.13498606]\n",
            "29 day output [[0.13531505]]\n",
            "[[0.12489231675863266], [0.12527033686637878], [0.12564697861671448], [0.1260230988264084], [0.12639926373958588], [0.12677566707134247], [0.12715230882167816], [0.12752899527549744], [0.12790538370609283], [0.12828104197978973], [0.12865561246871948], [0.12902869284152985], [0.129399836063385], [0.12976877391338348], [0.13013523817062378], [0.13049903512001038], [0.1308600753545761], [0.13121822476387024], [0.13157355785369873], [0.13192607462406158], [0.13227581977844238], [0.13262295722961426], [0.1329674869775772], [0.13330955803394318], [0.13364927470684052], [0.133986696600914], [0.13432194292545319], [0.13465504348278046], [0.1349860578775406], [0.13531504571437836]]\n"
          ],
          "name": "stdout"
        }
      ]
    },
    {
      "cell_type": "code",
      "metadata": {
        "id": "smBv0cVyCSEI"
      },
      "source": [
        "day_new=np.arange(1,101)\n",
        "day_pred=np.arange(101,131)"
      ],
      "execution_count": 60,
      "outputs": []
    },
    {
      "cell_type": "code",
      "metadata": {
        "id": "2aPxf6ERCSEI"
      },
      "source": [
        "import matplotlib.pyplot as plt"
      ],
      "execution_count": 61,
      "outputs": []
    },
    {
      "cell_type": "code",
      "metadata": {
        "colab": {
          "base_uri": "https://localhost:8080/"
        },
        "id": "f9SYWbQDCSEJ",
        "outputId": "1eed1100-4e06-4605-8fee-9c70abac85c7"
      },
      "source": [
        "len(df1)"
      ],
      "execution_count": 62,
      "outputs": [
        {
          "output_type": "execute_result",
          "data": {
            "text/plain": [
              "1258"
            ]
          },
          "metadata": {
            "tags": []
          },
          "execution_count": 62
        }
      ]
    },
    {
      "cell_type": "code",
      "metadata": {
        "id": "NUS-cOz2hcBq"
      },
      "source": [
        "df3=df1.tolist() #dispaly as real data\n",
        "df3.extend(lst_output)"
      ],
      "execution_count": 63,
      "outputs": []
    },
    {
      "cell_type": "code",
      "metadata": {
        "colab": {
          "base_uri": "https://localhost:8080/",
          "height": 283
        },
        "id": "nbxdMDkHCSEJ",
        "outputId": "95cf14fb-01eb-497e-976d-fa2183539c7d"
      },
      "source": [
        "plt.plot(day_new,scaler.inverse_transform(df1[1158:]))\n",
        "plt.plot(day_pred,scaler.inverse_transform(lst_output))"
      ],
      "execution_count": 64,
      "outputs": [
        {
          "output_type": "execute_result",
          "data": {
            "text/plain": [
              "[<matplotlib.lines.Line2D at 0x7f2454357750>]"
            ]
          },
          "metadata": {
            "tags": []
          },
          "execution_count": 64
        },
        {
          "output_type": "display_data",
          "data": {
            "image/png": "[encoded data removed]",
            "text/plain": [
              "<Figure size 432x288 with 1 Axes>"
            ]
          },
          "metadata": {
            "tags": [],
            "needs_background": "light"
          }
        }
      ]
    },
    {
      "cell_type": "code",
      "metadata": {
        "colab": {
          "base_uri": "https://localhost:8080/",
          "height": 283
        },
        "id": "lKDcKg6eCSEJ",
        "outputId": "036f5f07-73f0-47d7-beb0-90e80edb4fa5"
      },
      "source": [
        "df3=df1.tolist()\n",
        "df3.extend(lst_output)\n",
        "plt.plot(df3[1200:])"
      ],
      "execution_count": 65,
      "outputs": [
        {
          "output_type": "execute_result",
          "data": {
            "text/plain": [
              "[<matplotlib.lines.Line2D at 0x7f245444c190>]"
            ]
          },
          "metadata": {
            "tags": []
          },
          "execution_count": 65
        },
        {
          "output_type": "display_data",
          "data": {
            "image/png": "[encoded data removed]",
            "text/plain": [
              "<Figure size 432x288 with 1 Axes>"
            ]
          },
          "metadata": {
            "tags": [],
            "needs_background": "light"
          }
        }
      ]
    },
    {
      "cell_type": "code",
      "metadata": {
        "id": "7Pi81ePuCSEJ"
      },
      "source": [
        "df3=scaler.inverse_transform(df3).tolist()"
      ],
      "execution_count": 66,
      "outputs": []
    },
    {
      "cell_type": "code",
      "metadata": {
        "colab": {
          "base_uri": "https://localhost:8080/",
          "height": 283
        },
        "id": "1L2vOpCUCSEJ",
        "outputId": "5f62d4dd-58d5-48fe-f0ce-b1fb751f473e"
      },
      "source": [
        "plt.plot(df3)"
      ],
      "execution_count": 67,
      "outputs": [
        {
          "output_type": "execute_result",
          "data": {
            "text/plain": [
              "[<matplotlib.lines.Line2D at 0x7f245437ba50>]"
            ]
          },
          "metadata": {
            "tags": []
          },
          "execution_count": 67
        },
        {
          "output_type": "display_data",
          "data": {
            "image/png": "[encoded data removed]",
            "text/plain": [
              "<Figure size 432x288 with 1 Axes>"
            ]
          },
          "metadata": {
            "tags": [],
            "needs_background": "light"
          }
        }
      ]
    },
    {
      "cell_type": "code",
      "metadata": {
        "id": "7XIDvbz_CSEK"
      },
      "source": [
        ""
      ],
      "execution_count": null,
      "outputs": []
    }
  ]
}